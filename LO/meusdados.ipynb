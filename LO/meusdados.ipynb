{
 "cells": [
  {
   "cell_type": "code",
   "execution_count": 1,
   "metadata": {},
   "outputs": [],
   "source": [
    "import matplotlib.pyplot as plt\n",
    "from matplotlib import rcParams\n",
    "import numpy as np\n",
    "from scipy import signal\n",
    "import os\n",
    "import pandas as pd\n",
    "from scipy.signal import stft\n",
    "from math import prod"
   ]
  },
  {
   "cell_type": "code",
   "execution_count": 2,
   "metadata": {},
   "outputs": [],
   "source": [
    "def butter_bandpass(data, lowcut, highcut, fs=200, order=4):\n",
    "    nyq = fs * 0.5\n",
    "    low = lowcut / nyq\n",
    "    high = highcut / nyq\n",
    "    b, a = signal.butter(order, [low, high], btype='bandpass')\n",
    "    return signal.filtfilt(b, a, data)\n",
    "\n",
    "\n",
    "def butter_lowpass(data, lowcut, fs=200, order=4):\n",
    "    nyq = fs * 0.5\n",
    "    low = lowcut / nyq\n",
    "    b, a = signal.butter(order, low, btype='lowpass')\n",
    "    return signal.filtfilt(b, a, data)\n",
    "\n",
    "\n",
    "def butter_highpass(data, highcut, fs=200, order=4):\n",
    "    nyq = fs * 0.5\n",
    "    high = highcut / nyq\n",
    "    b, a = signal.butter(order, high, btype='highpass')\n",
    "    return signal.filtfilt(b, a, data)\n",
    "\n",
    "\n",
    "def butter_notch(data, cutoff, var=1, fs=200, order=4):\n",
    "    nyq = fs * 0.5\n",
    "    low = (cutoff - var) / nyq\n",
    "    high = (cutoff + var) / nyq\n",
    "    b, a = signal.iirfilter(order, [low, high], btype='bandstop', ftype=\"butter\")\n",
    "    return signal.filtfilt(b, a, data)"
   ]
  },
  {
   "cell_type": "code",
   "execution_count": 3,
   "metadata": {},
   "outputs": [],
   "source": [
    "def filtros(data):\n",
    "    data_filtered = butter_notch(data, 60)\n",
    "    data_filtered = butter_highpass(data_filtered, 5)\n",
    "    data_filtered = butter_lowpass(data_filtered, 50)\n",
    "    return data_filtered"
   ]
  },
  {
   "cell_type": "code",
   "execution_count": 4,
   "metadata": {},
   "outputs": [
    {
     "name": "stdout",
     "output_type": "stream",
     "text": [
      "(24, 4, 1600)\n"
     ]
    }
   ],
   "source": [
    "dir = './datasets/topicos_cc'\n",
    "arquivos = os.listdir(dir)\n",
    "arq_numpy = [f for f in arquivos if f.endswith(\".npy\") and f.startswith('p2')]\n",
    "participantes = {}\n",
    "for i in arq_numpy:\n",
    "    nome = i.split('_')\n",
    "    trial = np.load(dir+'/'+i)\n",
    "    for m in range(0,8):\n",
    "        if participantes.get(f'participante_{nome[0]}',0) == 0:\n",
    "            participantes[f'participante_{nome[0]}'] = {}\n",
    "        if participantes[f'participante_{nome[0]}'].get(f'trial_{nome[1]}',0) == 0:\n",
    "            participantes[f'participante_{nome[0]}'][f'trial_{nome[1]}'] = {}\n",
    "        dados = trial[m, :, :].swapaxes(0,1)\n",
    "        participantes[f'participante_{nome[0]}'][f'trial_{nome[1]}'][f'movimento_{m+1}'] = filtros(dados)\n",
    "\n",
    "v = list()\n",
    "for i in arq_numpy:\n",
    "    trial = np.load(dir+'/'+i)\n",
    "    v.append(trial[:, :, :].swapaxes(1,2))    \n",
    "\n",
    "arr = np.vstack((v[0], v[1], v[2]))\n",
    "\n",
    "print(arr.shape)"
   ]
  },
  {
   "cell_type": "code",
   "execution_count": 5,
   "metadata": {},
   "outputs": [
    {
     "name": "stdout",
     "output_type": "stream",
     "text": [
      " (24, 4, 1600)\n",
      "Formato (shape) dos dados depois da divisão de janelas\n",
      "Dominio do tempo: (24, 4, 26, 128) - (classes, ensaios, canais, janelas, linhas)\n",
      "Dominio da frequência:  (24, 4, 26, 65) - (classes, ensaios, canais, janelas, linhas)\n"
     ]
    }
   ],
   "source": [
    "step = 58\n",
    "segment = 128\n",
    "data = arr\n",
    "# .get_data()\n",
    "print('', data.shape)\n",
    "\n",
    "n_win = int((data.shape[-1] - segment) / step) + 1\n",
    "ids = np.arange(n_win) * step\n",
    "\n",
    "# Janelas do dado no dominio do tempo\n",
    "chunks_time = np.array([data[:,:,k:(k + segment)] for k in ids]).transpose(1, 2, 0, 3)\n",
    "\n",
    "# Janelas do dado no domínio da frequência\n",
    "_, _, chunks_freq = stft(data, fs=200, nperseg=128, noverlap=64)\n",
    "chunks_freq = np.swapaxes(chunks_freq, 2, 3)\n",
    "\n",
    "print('Formato (shape) dos dados depois da divisão de janelas')\n",
    "print(f'Dominio do tempo: {chunks_time.shape} - (classes, ensaios, canais, janelas, linhas)')\n",
    "print(f'Dominio da frequência:  {chunks_freq.shape} - (classes, ensaios, canais, janelas, linhas)')"
   ]
  },
  {
   "cell_type": "code",
   "execution_count": 6,
   "metadata": {},
   "outputs": [],
   "source": [
    "# funções auxiliares\n",
    "def PSD(w):\n",
    "    ''' definição da função PSD para o sinal no domínio da frequência '''\n",
    "    return np.abs(w) ** 2\n",
    "\n",
    "\n",
    "# funções de extração de características\n",
    "\n",
    "def var(x):\n",
    "    return np.sum(x ** 2, axis=-1) / (np.prod(x.shape[:-1]) - 1)\n",
    "\n",
    "def rms(x):\n",
    "    return np.sqrt(np.sum(np.abs(x) ** 2, axis=-1) / (np.prod(x.shape[:-1])))\n",
    "\n",
    "def wamp(x):\n",
    "    limiar = np.abs(np.diff(x))\n",
    "    return np.sum(limiar > 0.0001, axis=-1)\n",
    "\n",
    "def wl(x):\n",
    "    return np.sum(np.abs(np.diff(x)), axis=-1)\n",
    "\n",
    "# def zc(x):\n",
    "#     trs = 0.0001\n",
    " \n",
    "#     f = [1 if i*j <= 0 else 0 for i,j in zip(x[:,:,:,:-1], x[:,:,:,1:])]\n",
    "    \n",
    "#     return np.sum(f)\n",
    "\n",
    "\n",
    "def getzc(data, th):\n",
    "    t = len(data)\n",
    "    soma = 0\n",
    "    for i in range(t-1):\n",
    "        res = (data[i]*data[i+1])\n",
    "        res2 = np.abs(data[i]-data[i+1])\n",
    "        if (res<0 and res2 > th):\n",
    "            soma +=1\n",
    "    return soma\n",
    "\n",
    "def zc(data):\n",
    "    f=[]\n",
    "    x,y,z = data.shape[:3]\n",
    "    for i in range(x):\n",
    "        l = []\n",
    "        for j in range(y):\n",
    "            li = []\n",
    "            for k in range(z):\n",
    "                li.append(getzc(data[i][j][k], 0.0001))\n",
    "            l.append(li.copy())\n",
    "        f.append(l.copy())\n",
    "\n",
    "    return np.array(f)\n",
    "\n",
    "def fmd(w):\n",
    "    return np.sum(PSD(w), axis=-1) / 2\n",
    "\n",
    "def mmdf(w):\n",
    "    return np.sum(np.abs(w), axis=-1) / 2\n",
    "\n",
    "\n",
    "def fmn(w):\n",
    "    sample_rate = 200\n",
    "    f = (w * sample_rate)/(2*len(w))\n",
    "    return np.sum(np.abs(f*PSD(w)), axis=-1)/np.sum(PSD(w), axis=-1)\n",
    "\n",
    "def mmnf(w):\n",
    "    sample_rate = 200\n",
    "    f = (w * sample_rate)/(2*len(w))\n",
    "    return np.sum(np.abs(f*np.abs(w)), axis=-1)/np.sum(np.abs(w), axis=-1)\n",
    "\n",
    "from math import e\n",
    "\n",
    "def logDec(data):\n",
    "    N = np.prod(data.shape)\n",
    "    return e ** (np.sum(np.log10(np.abs(data)), axis=-1))/N"
   ]
  },
  {
   "cell_type": "code",
   "execution_count": 7,
   "metadata": {},
   "outputs": [
    {
     "data": {
      "text/plain": [
       "(10, 24, 4, 26)"
      ]
     },
     "execution_count": 7,
     "metadata": {},
     "output_type": "execute_result"
    }
   ],
   "source": [
    "final_data = list()\n",
    "final_data.append(var(chunks_time))\n",
    "final_data.append(rms(chunks_time))\n",
    "final_data.append(fmd(chunks_freq))\n",
    "final_data.append(mmdf(chunks_freq))\n",
    "final_data.append(logDec(chunks_time))\n",
    "final_data.append(wamp(chunks_time))\n",
    "final_data.append(wl(chunks_time))\n",
    "final_data.append(zc(chunks_time))\n",
    "final_data.append(fmn(chunks_freq))\n",
    "final_data.append(mmnf(chunks_freq))\n",
    "\n",
    "\n",
    "final = np.array(final_data)\n",
    "final.shape"
   ]
  },
  {
   "cell_type": "markdown",
   "metadata": {},
   "source": [
    "### Visualização"
   ]
  },
  {
   "cell_type": "code",
   "execution_count": 8,
   "metadata": {},
   "outputs": [],
   "source": [
    "data = final.transpose(0, 1, 3, 2)\n",
    "sh = data.shape\n",
    "\n",
    "X = data.reshape(sh[0], int(sh[1]/3), 3 * sh[2], sh[3])"
   ]
  },
  {
   "cell_type": "code",
   "execution_count": 9,
   "metadata": {},
   "outputs": [
    {
     "name": "stderr",
     "output_type": "stream",
     "text": [
      "/home/luisotavio/.local/lib/python3.8/site-packages/sklearn/decomposition/_pca.py:499: RuntimeWarning: overflow encountered in square\n",
      "  explained_variance_ = (S ** 2) / (n_samples - 1)\n",
      "/home/luisotavio/.local/lib/python3.8/site-packages/sklearn/decomposition/_pca.py:501: RuntimeWarning: invalid value encountered in true_divide\n",
      "  explained_variance_ratio_ = explained_variance_ / total_var\n",
      "/home/luisotavio/.local/lib/python3.8/site-packages/sklearn/decomposition/_pca.py:499: RuntimeWarning: overflow encountered in square\n",
      "  explained_variance_ = (S ** 2) / (n_samples - 1)\n",
      "/home/luisotavio/.local/lib/python3.8/site-packages/sklearn/decomposition/_pca.py:501: RuntimeWarning: invalid value encountered in true_divide\n",
      "  explained_variance_ratio_ = explained_variance_ / total_var\n",
      "/home/luisotavio/.local/lib/python3.8/site-packages/sklearn/decomposition/_pca.py:499: RuntimeWarning: overflow encountered in square\n",
      "  explained_variance_ = (S ** 2) / (n_samples - 1)\n",
      "/home/luisotavio/.local/lib/python3.8/site-packages/sklearn/decomposition/_pca.py:501: RuntimeWarning: invalid value encountered in true_divide\n",
      "  explained_variance_ratio_ = explained_variance_ / total_var\n",
      "/home/luisotavio/.local/lib/python3.8/site-packages/sklearn/decomposition/_pca.py:499: RuntimeWarning: overflow encountered in square\n",
      "  explained_variance_ = (S ** 2) / (n_samples - 1)\n",
      "/home/luisotavio/.local/lib/python3.8/site-packages/sklearn/decomposition/_pca.py:501: RuntimeWarning: invalid value encountered in true_divide\n",
      "  explained_variance_ratio_ = explained_variance_ / total_var\n",
      "/home/luisotavio/.local/lib/python3.8/site-packages/sklearn/decomposition/_pca.py:499: RuntimeWarning: overflow encountered in square\n",
      "  explained_variance_ = (S ** 2) / (n_samples - 1)\n",
      "/home/luisotavio/.local/lib/python3.8/site-packages/sklearn/decomposition/_pca.py:501: RuntimeWarning: invalid value encountered in true_divide\n",
      "  explained_variance_ratio_ = explained_variance_ / total_var\n",
      "/home/luisotavio/.local/lib/python3.8/site-packages/sklearn/decomposition/_pca.py:499: RuntimeWarning: overflow encountered in square\n",
      "  explained_variance_ = (S ** 2) / (n_samples - 1)\n",
      "/home/luisotavio/.local/lib/python3.8/site-packages/sklearn/decomposition/_pca.py:501: RuntimeWarning: invalid value encountered in true_divide\n",
      "  explained_variance_ratio_ = explained_variance_ / total_var\n",
      "/home/luisotavio/.local/lib/python3.8/site-packages/sklearn/decomposition/_pca.py:499: RuntimeWarning: overflow encountered in square\n",
      "  explained_variance_ = (S ** 2) / (n_samples - 1)\n",
      "/home/luisotavio/.local/lib/python3.8/site-packages/sklearn/decomposition/_pca.py:501: RuntimeWarning: invalid value encountered in true_divide\n",
      "  explained_variance_ratio_ = explained_variance_ / total_var\n",
      "/home/luisotavio/.local/lib/python3.8/site-packages/sklearn/decomposition/_pca.py:501: RuntimeWarning: invalid value encountered in true_divide\n",
      "  explained_variance_ratio_ = explained_variance_ / total_var\n"
     ]
    }
   ],
   "source": [
    "from sklearn.decomposition import PCA\n",
    "pca = PCA(n_components=2)\n",
    "\n",
    "features = list()\n",
    "for f in X:\n",
    "    classes = list()\n",
    "    for c in f:\n",
    "        C_pca = pca.fit_transform(c)\n",
    "        classes.append(C_pca)\n",
    "    features.append(classes)\n",
    "\n",
    "X_pca = np.array(features)"
   ]
  },
  {
   "cell_type": "code",
   "execution_count": 10,
   "metadata": {},
   "outputs": [],
   "source": [
    "def plot_features(features, features_names, classes_names, ch_1, ch_2):\n",
    "    \n",
    "    movs = np.arange(len(classes_names))\n",
    "    markers = [\"o\", \"v\", \"^\", \"P\", \"*\", \"x\", \"X\", \"2\", \"3\", \"1\"]\n",
    "    for f, feature in enumerate(features):\n",
    "        \n",
    "        for mov, marker in zip(movs, markers):\n",
    "            # argumentos: classes, amostras, canal\n",
    "            plt.scatter(feature[mov, :, ch_1],\n",
    "                        feature[mov, :, ch_2], marker=marker)\n",
    "\n",
    "        plt.legend((classes_names), scatterpoints=1, loc='best',\n",
    "                   ncol=3, fontsize=8)\n",
    "        \n",
    "        plt.title(features_names[f])\n",
    "        plt.xlabel('CH{}'.format(ch_1))\n",
    "        plt.ylabel('CH{}'.format(ch_2))\n",
    "        plt.show()"
   ]
  },
  {
   "cell_type": "code",
   "execution_count": 11,
   "metadata": {},
   "outputs": [],
   "source": [
    "import matplotlib.pyplot as plt\n",
    "from matplotlib import rcParams\n",
    "\n",
    "# plt.rcParams[\"figure.figsize\"] = (12, 12)\n",
    "\n",
    "# features_name = ('var', 'rms', 'wamp', 'wl', 'zc','logD','fmd', 'mmdf', 'fmn', 'mmnf')\n",
    "# classes = [str(item) for item in list(range(8))]\n",
    "# plot_features(X_pca, features_name, classes, 0, 1)"
   ]
  },
  {
   "cell_type": "code",
   "execution_count": 12,
   "metadata": {},
   "outputs": [
    {
     "name": "stdout",
     "output_type": "stream",
     "text": [
      "classes amostras canais características\n",
      "(8, 78, 4, 10)\n"
     ]
    },
    {
     "data": {
      "text/plain": [
       "(624, 40)"
      ]
     },
     "execution_count": 12,
     "metadata": {},
     "output_type": "execute_result"
    }
   ],
   "source": [
    "X = X.transpose(1, 2, 3, 0)\n",
    "print('classes', 'amostras', 'canais', 'características')\n",
    "print(X.shape)\n",
    "X = X.reshape(X.shape[0]*X.shape[1], X.shape[2]*X.shape[3])\n",
    "X.shape"
   ]
  },
  {
   "cell_type": "code",
   "execution_count": 13,
   "metadata": {},
   "outputs": [],
   "source": [
    "y = np.array(list(range(1, 9)) * int(X.shape[0] / 8))"
   ]
  },
  {
   "cell_type": "code",
   "execution_count": 14,
   "metadata": {},
   "outputs": [
    {
     "name": "stdout",
     "output_type": "stream",
     "text": [
      "Shape dos rótulos: (624,)\n"
     ]
    }
   ],
   "source": [
    "# criação dos rótulos\n",
    "\n",
    "# 1,1,1,1,1,1,1,1,1,1,...,2,2,2,2,2,2,2,2,2,2,...,3,...\n",
    "y = [[str(i)] * int(X.shape[0] / 8) for i in range(8)]\n",
    "y = np.array(y).flatten()\n",
    "print('Shape dos rótulos:', y.shape)"
   ]
  },
  {
   "cell_type": "code",
   "execution_count": 15,
   "metadata": {},
   "outputs": [
    {
     "data": {
      "text/plain": [
       "array(['0', '0', '0', '0', '0', '0', '0', '0', '0', '0', '0', '0', '0',\n",
       "       '0', '0', '0', '0', '0', '0', '0', '0', '0', '0', '0', '0', '0',\n",
       "       '0', '0', '0', '0', '0', '0', '0', '0', '0', '0', '0', '0', '0',\n",
       "       '0', '0', '0', '0', '0', '0', '0', '0', '0', '0', '0', '0', '0',\n",
       "       '0', '0', '0', '0', '0', '0', '0', '0', '0', '0', '0', '0', '0',\n",
       "       '0', '0', '0', '0', '0', '0', '0', '0', '0', '0', '0', '0', '0',\n",
       "       '1', '1', '1', '1', '1', '1', '1', '1', '1', '1', '1', '1', '1',\n",
       "       '1', '1', '1', '1', '1', '1', '1', '1', '1', '1', '1', '1', '1',\n",
       "       '1', '1', '1', '1', '1', '1', '1', '1', '1', '1', '1', '1', '1',\n",
       "       '1', '1', '1', '1', '1', '1', '1', '1', '1', '1', '1', '1', '1',\n",
       "       '1', '1', '1', '1', '1', '1', '1', '1', '1', '1', '1', '1', '1',\n",
       "       '1', '1', '1', '1', '1', '1', '1', '1', '1', '1', '1', '1', '1',\n",
       "       '2', '2', '2', '2', '2', '2', '2', '2', '2', '2', '2', '2', '2',\n",
       "       '2', '2', '2', '2', '2', '2', '2', '2', '2', '2', '2', '2', '2',\n",
       "       '2', '2', '2', '2', '2', '2', '2', '2', '2', '2', '2', '2', '2',\n",
       "       '2', '2', '2', '2', '2', '2', '2', '2', '2', '2', '2', '2', '2',\n",
       "       '2', '2', '2', '2', '2', '2', '2', '2', '2', '2', '2', '2', '2',\n",
       "       '2', '2', '2', '2', '2', '2', '2', '2', '2', '2', '2', '2', '2',\n",
       "       '3', '3', '3', '3', '3', '3', '3', '3', '3', '3', '3', '3', '3',\n",
       "       '3', '3', '3', '3', '3', '3', '3', '3', '3', '3', '3', '3', '3',\n",
       "       '3', '3', '3', '3', '3', '3', '3', '3', '3', '3', '3', '3', '3',\n",
       "       '3', '3', '3', '3', '3', '3', '3', '3', '3', '3', '3', '3', '3',\n",
       "       '3', '3', '3', '3', '3', '3', '3', '3', '3', '3', '3', '3', '3',\n",
       "       '3', '3', '3', '3', '3', '3', '3', '3', '3', '3', '3', '3', '3',\n",
       "       '4', '4', '4', '4', '4', '4', '4', '4', '4', '4', '4', '4', '4',\n",
       "       '4', '4', '4', '4', '4', '4', '4', '4', '4', '4', '4', '4', '4',\n",
       "       '4', '4', '4', '4', '4', '4', '4', '4', '4', '4', '4', '4', '4',\n",
       "       '4', '4', '4', '4', '4', '4', '4', '4', '4', '4', '4', '4', '4',\n",
       "       '4', '4', '4', '4', '4', '4', '4', '4', '4', '4', '4', '4', '4',\n",
       "       '4', '4', '4', '4', '4', '4', '4', '4', '4', '4', '4', '4', '4',\n",
       "       '5', '5', '5', '5', '5', '5', '5', '5', '5', '5', '5', '5', '5',\n",
       "       '5', '5', '5', '5', '5', '5', '5', '5', '5', '5', '5', '5', '5',\n",
       "       '5', '5', '5', '5', '5', '5', '5', '5', '5', '5', '5', '5', '5',\n",
       "       '5', '5', '5', '5', '5', '5', '5', '5', '5', '5', '5', '5', '5',\n",
       "       '5', '5', '5', '5', '5', '5', '5', '5', '5', '5', '5', '5', '5',\n",
       "       '5', '5', '5', '5', '5', '5', '5', '5', '5', '5', '5', '5', '5',\n",
       "       '6', '6', '6', '6', '6', '6', '6', '6', '6', '6', '6', '6', '6',\n",
       "       '6', '6', '6', '6', '6', '6', '6', '6', '6', '6', '6', '6', '6',\n",
       "       '6', '6', '6', '6', '6', '6', '6', '6', '6', '6', '6', '6', '6',\n",
       "       '6', '6', '6', '6', '6', '6', '6', '6', '6', '6', '6', '6', '6',\n",
       "       '6', '6', '6', '6', '6', '6', '6', '6', '6', '6', '6', '6', '6',\n",
       "       '6', '6', '6', '6', '6', '6', '6', '6', '6', '6', '6', '6', '6',\n",
       "       '7', '7', '7', '7', '7', '7', '7', '7', '7', '7', '7', '7', '7',\n",
       "       '7', '7', '7', '7', '7', '7', '7', '7', '7', '7', '7', '7', '7',\n",
       "       '7', '7', '7', '7', '7', '7', '7', '7', '7', '7', '7', '7', '7',\n",
       "       '7', '7', '7', '7', '7', '7', '7', '7', '7', '7', '7', '7', '7',\n",
       "       '7', '7', '7', '7', '7', '7', '7', '7', '7', '7', '7', '7', '7',\n",
       "       '7', '7', '7', '7', '7', '7', '7', '7', '7', '7', '7', '7', '7'],\n",
       "      dtype='<U1')"
      ]
     },
     "execution_count": 15,
     "metadata": {},
     "output_type": "execute_result"
    }
   ],
   "source": [
    "y"
   ]
  },
  {
   "cell_type": "code",
   "execution_count": 16,
   "metadata": {},
   "outputs": [
    {
     "name": "stdout",
     "output_type": "stream",
     "text": [
      "(624, 40) (624,)\n"
     ]
    }
   ],
   "source": [
    "print(X.shape,y.shape)"
   ]
  },
  {
   "cell_type": "code",
   "execution_count": 17,
   "metadata": {},
   "outputs": [
    {
     "data": {
      "text/plain": [
       "array([[2.00949951e+02, 1.41728417e+01, 4.45978656e+02, ...,\n",
       "        3.00000000e+01, 1.48287183e+01, 7.25559629e+00],\n",
       "       [9.96639577e+03, 9.98118371e+01, 1.83139893e+03, ...,\n",
       "        4.90000000e+01, 1.89385710e+01, 1.17578499e+01],\n",
       "       [3.18856012e+04, 1.78529624e+02, 2.62640603e+04, ...,\n",
       "        6.00000000e+01, 2.80380287e+01, 2.28285347e+01],\n",
       "       ...,\n",
       "       [7.43306745e+01, 8.61979667e+00, 1.06199347e+03, ...,\n",
       "        2.50000000e+01, 5.25549716e+01, 3.68268766e+01],\n",
       "       [9.88532191e+01, 9.94050373e+00, 1.25075870e+03, ...,\n",
       "        4.80000000e+01, 1.43532105e+03, 8.30160975e+02],\n",
       "       [1.16572835e+02, 1.07947270e+01, 4.66791736e+02, ...,\n",
       "        3.00000000e+01, 7.86723203e+02, 4.07772575e+02]])"
      ]
     },
     "execution_count": 17,
     "metadata": {},
     "output_type": "execute_result"
    }
   ],
   "source": [
    "X[0:]"
   ]
  },
  {
   "cell_type": "markdown",
   "metadata": {},
   "source": [
    "### Normalização"
   ]
  },
  {
   "cell_type": "code",
   "execution_count": 18,
   "metadata": {},
   "outputs": [
    {
     "data": {
      "text/plain": [
       "array([[2.00949951e+02, 1.41728417e+01, 4.45978656e+02, ...,\n",
       "        3.00000000e+01, 1.48287183e+01, 7.25559629e+00],\n",
       "       [9.96639577e+03, 9.98118371e+01, 1.83139893e+03, ...,\n",
       "        4.90000000e+01, 1.89385710e+01, 1.17578499e+01],\n",
       "       [3.18856012e+04, 1.78529624e+02, 2.62640603e+04, ...,\n",
       "        6.00000000e+01, 2.80380287e+01, 2.28285347e+01],\n",
       "       ...,\n",
       "       [7.43306745e+01, 8.61979667e+00, 1.06199347e+03, ...,\n",
       "        2.50000000e+01, 5.25549716e+01, 3.68268766e+01],\n",
       "       [9.88532191e+01, 9.94050373e+00, 1.25075870e+03, ...,\n",
       "        4.80000000e+01, 1.43532105e+03, 8.30160975e+02],\n",
       "       [1.16572835e+02, 1.07947270e+01, 4.66791736e+02, ...,\n",
       "        3.00000000e+01, 7.86723203e+02, 4.07772575e+02]])"
      ]
     },
     "execution_count": 18,
     "metadata": {},
     "output_type": "execute_result"
    }
   ],
   "source": [
    "X"
   ]
  },
  {
   "cell_type": "code",
   "execution_count": 19,
   "metadata": {},
   "outputs": [
    {
     "data": {
      "text/plain": [
       "array([[False, False, False, ..., False, False, False],\n",
       "       [False, False, False, ..., False, False, False],\n",
       "       [False, False, False, ..., False, False, False],\n",
       "       ...,\n",
       "       [False, False, False, ..., False, False, False],\n",
       "       [False, False, False, ..., False, False, False],\n",
       "       [False, False, False, ..., False, False, False]])"
      ]
     },
     "execution_count": 19,
     "metadata": {},
     "output_type": "execute_result"
    }
   ],
   "source": [
    "np.isnan(X)"
   ]
  },
  {
   "cell_type": "code",
   "execution_count": 20,
   "metadata": {},
   "outputs": [
    {
     "data": {
      "text/plain": [
       "(624, 40)"
      ]
     },
     "execution_count": 20,
     "metadata": {},
     "output_type": "execute_result"
    }
   ],
   "source": [
    "X.shape"
   ]
  },
  {
   "cell_type": "code",
   "execution_count": 21,
   "metadata": {},
   "outputs": [
    {
     "name": "stderr",
     "output_type": "stream",
     "text": [
      "/home/luisotavio/.local/lib/python3.8/site-packages/sklearn/utils/extmath.py:1014: RuntimeWarning: overflow encountered in square\n",
      "  temp **= 2\n",
      "/home/luisotavio/.local/lib/python3.8/site-packages/sklearn/utils/extmath.py:1020: RuntimeWarning: overflow encountered in square\n",
      "  new_unnormalized_variance -= correction ** 2 / new_sample_count\n",
      "/home/luisotavio/.local/lib/python3.8/site-packages/sklearn/utils/extmath.py:1020: RuntimeWarning: invalid value encountered in subtract\n",
      "  new_unnormalized_variance -= correction ** 2 / new_sample_count\n",
      "/home/luisotavio/.local/lib/python3.8/site-packages/sklearn/preprocessing/_data.py:80: RuntimeWarning: overflow encountered in square\n",
      "  upper_bound = n_samples * eps * var + (n_samples * mean * eps) ** 2\n"
     ]
    }
   ],
   "source": [
    "from sklearn.preprocessing import StandardScaler\n",
    "from sklearn.model_selection import train_test_split\n",
    "\n",
    "X_train, X_test, y_train, y_test = train_test_split(X, y, test_size=0.30,shuffle=True)\n",
    "scaler = StandardScaler()\n",
    "scaler.fit(X_train)\n",
    "# scaler.fit(X)\n",
    "X_train = scaler.transform(X_train)\n",
    "# X = scaler.transform(X)\n",
    "X_test = scaler.transform(X_test)"
   ]
  },
  {
   "cell_type": "code",
   "execution_count": 22,
   "metadata": {},
   "outputs": [],
   "source": [
    "from sklearn.model_selection import train_test_split\n",
    "from sklearn.svm import SVC\n",
    "\n",
    "# dividindo as porções de dados em treino e teste (70 e 30% respectivamente)\n",
    "# com embaralhamento sempre ativo (shuffle=True)\n",
    "# X_train, X_test, y_train, y_test = train_test_split(X, y, test_size=0.3, shuffle=True)"
   ]
  },
  {
   "cell_type": "code",
   "execution_count": 23,
   "metadata": {},
   "outputs": [
    {
     "data": {
      "text/plain": [
       "1308"
      ]
     },
     "execution_count": 23,
     "metadata": {},
     "output_type": "execute_result"
    }
   ],
   "source": [
    "\n",
    "np.isnan(X_train).sum()"
   ]
  },
  {
   "cell_type": "code",
   "execution_count": 24,
   "metadata": {},
   "outputs": [],
   "source": [
    "X_train = np.nan_to_num(X_train)\n",
    "X_test = np.nan_to_num(X_test)"
   ]
  },
  {
   "cell_type": "code",
   "execution_count": 25,
   "metadata": {},
   "outputs": [
    {
     "data": {
      "text/plain": [
       "(436, 40)"
      ]
     },
     "execution_count": 25,
     "metadata": {},
     "output_type": "execute_result"
    }
   ],
   "source": [
    "X_train.shape"
   ]
  },
  {
   "cell_type": "code",
   "execution_count": 26,
   "metadata": {},
   "outputs": [
    {
     "name": "stderr",
     "output_type": "stream",
     "text": [
      "/home/luisotavio/.local/lib/python3.8/site-packages/numpy/core/_methods.py:235: RuntimeWarning: overflow encountered in multiply\n",
      "  x = um.multiply(x, x, out=x)\n"
     ]
    },
    {
     "data": {
      "text/plain": [
       "SVC()"
      ]
     },
     "execution_count": 26,
     "metadata": {},
     "output_type": "execute_result"
    }
   ],
   "source": [
    "# modelo de classificador com os parâmetros padrões\n",
    "clf = SVC(gamma='scale')\n",
    "\n",
    "# criando o modelo de classificação com os dados de treino\n",
    "clf.fit(X_train, y_train)"
   ]
  },
  {
   "cell_type": "code",
   "execution_count": 27,
   "metadata": {},
   "outputs": [
    {
     "name": "stdout",
     "output_type": "stream",
     "text": [
      "Acurácia: 11.70%\n"
     ]
    }
   ],
   "source": [
    "# aplicando o classificador nos dados de teste\n",
    "res = clf.predict(X_test)\n",
    "\n",
    "# obtendo e ajustando os resultados \n",
    "tot_hit = sum([1 for i in range(len(res)) if res[i] == y_test[i]])\n",
    "print('Acurácia: {:.2f}%'.format(tot_hit / X_test.shape[0] * 100))"
   ]
  },
  {
   "cell_type": "markdown",
   "metadata": {},
   "source": [
    "### Feature selection"
   ]
  },
  {
   "cell_type": "code",
   "execution_count": 28,
   "metadata": {},
   "outputs": [
    {
     "data": {
      "text/plain": [
       "(624, 40)"
      ]
     },
     "execution_count": 28,
     "metadata": {},
     "output_type": "execute_result"
    }
   ],
   "source": [
    "data = final.transpose(1, 3, 2, 0)\n",
    "X = data.reshape(data.shape[0]*data.shape[1], data.shape[2]*data.shape[3])\n",
    "X.shape"
   ]
  },
  {
   "cell_type": "code",
   "execution_count": null,
   "metadata": {},
   "outputs": [],
   "source": [
    "y = np.array(list(range(1, 9)) * int(X.shape[0] / 8))"
   ]
  },
  {
   "cell_type": "code",
   "execution_count": null,
   "metadata": {},
   "outputs": [
    {
     "data": {
      "text/plain": [
       "(624,)"
      ]
     },
     "execution_count": 26,
     "metadata": {},
     "output_type": "execute_result"
    }
   ],
   "source": [
    "y.shape"
   ]
  },
  {
   "cell_type": "code",
   "execution_count": 30,
   "metadata": {},
   "outputs": [
    {
     "data": {
      "text/plain": [
       "(4, 624, 10)"
      ]
     },
     "execution_count": 30,
     "metadata": {},
     "output_type": "execute_result"
    }
   ],
   "source": [
    "data_t = final.transpose(1, 3, 2, 0)\n",
    "X_t = data.reshape(24*26, 10, 4)\n",
    "\n",
    "data_t = X_t.transpose(2, 0, 1)\n",
    "data_t.shape"
   ]
  },
  {
   "cell_type": "code",
   "execution_count": null,
   "metadata": {},
   "outputs": [],
   "source": [
    "from sklearn.feature_selection import VarianceThreshold\n",
    "\n",
    "canais = list()\n",
    "\n",
    "for c in data_t:\n",
    "    sel = VarianceThreshold(0.1)\n",
    "    vt = sel.fit_transform(c)\n",
    "    canais.append(vt)\n",
    "\n",
    "cn = np.array(canais)"
   ]
  },
  {
   "cell_type": "code",
   "execution_count": null,
   "metadata": {},
   "outputs": [
    {
     "data": {
      "text/plain": [
       "(4, 624, 8)"
      ]
     },
     "execution_count": 50,
     "metadata": {},
     "output_type": "execute_result"
    }
   ],
   "source": [
    "cn.shape"
   ]
  },
  {
   "cell_type": "code",
   "execution_count": 31,
   "metadata": {},
   "outputs": [
    {
     "name": "stdout",
     "output_type": "stream",
     "text": [
      "(624, 10)\n",
      "(624, 10)\n",
      "(624, 10)\n",
      "(624, 10)\n"
     ]
    },
    {
     "name": "stderr",
     "output_type": "stream",
     "text": [
      "/home/luisotavio/.local/lib/python3.8/site-packages/sklearn/utils/__init__.py:695: RuntimeWarning: overflow encountered in square\n",
      "  X = X ** 2\n",
      "/home/luisotavio/.local/lib/python3.8/site-packages/sklearn/utils/__init__.py:695: RuntimeWarning: overflow encountered in square\n",
      "  X = X ** 2\n",
      "/home/luisotavio/.local/lib/python3.8/site-packages/sklearn/utils/__init__.py:695: RuntimeWarning: overflow encountered in square\n",
      "  X = X ** 2\n",
      "/home/luisotavio/.local/lib/python3.8/site-packages/sklearn/utils/__init__.py:695: RuntimeWarning: overflow encountered in square\n",
      "  X = X ** 2\n",
      "/home/luisotavio/.local/lib/python3.8/site-packages/sklearn/utils/__init__.py:695: RuntimeWarning: overflow encountered in square\n",
      "  X = X ** 2\n",
      "/home/luisotavio/.local/lib/python3.8/site-packages/sklearn/utils/__init__.py:695: RuntimeWarning: overflow encountered in square\n",
      "  X = X ** 2\n",
      "/home/luisotavio/.local/lib/python3.8/site-packages/sklearn/utils/__init__.py:695: RuntimeWarning: overflow encountered in square\n",
      "  X = X ** 2\n",
      "/home/luisotavio/.local/lib/python3.8/site-packages/sklearn/feature_selection/_univariate_selection.py:98: RuntimeWarning: overflow encountered in square\n",
      "  square_of_sums_alldata = sum(sums_args) ** 2\n",
      "/home/luisotavio/.local/lib/python3.8/site-packages/sklearn/feature_selection/_univariate_selection.py:99: RuntimeWarning: overflow encountered in square\n",
      "  square_of_sums_args = [s ** 2 for s in sums_args]\n",
      "/home/luisotavio/.local/lib/python3.8/site-packages/sklearn/feature_selection/_univariate_selection.py:100: RuntimeWarning: invalid value encountered in subtract\n",
      "  sstot = ss_alldata - square_of_sums_alldata / float(n_samples)\n",
      "/home/luisotavio/.local/lib/python3.8/site-packages/sklearn/feature_selection/_univariate_selection.py:104: RuntimeWarning: invalid value encountered in subtract\n",
      "  ssbn -= square_of_sums_alldata / float(n_samples)\n",
      "/home/luisotavio/.local/lib/python3.8/site-packages/sklearn/utils/__init__.py:695: RuntimeWarning: overflow encountered in square\n",
      "  X = X ** 2\n",
      "/home/luisotavio/.local/lib/python3.8/site-packages/sklearn/utils/__init__.py:695: RuntimeWarning: overflow encountered in square\n",
      "  X = X ** 2\n",
      "/home/luisotavio/.local/lib/python3.8/site-packages/sklearn/utils/__init__.py:695: RuntimeWarning: overflow encountered in square\n",
      "  X = X ** 2\n",
      "/home/luisotavio/.local/lib/python3.8/site-packages/sklearn/utils/__init__.py:695: RuntimeWarning: overflow encountered in square\n",
      "  X = X ** 2\n",
      "/home/luisotavio/.local/lib/python3.8/site-packages/sklearn/utils/__init__.py:695: RuntimeWarning: overflow encountered in square\n",
      "  X = X ** 2\n",
      "/home/luisotavio/.local/lib/python3.8/site-packages/sklearn/feature_selection/_univariate_selection.py:98: RuntimeWarning: overflow encountered in square\n",
      "  square_of_sums_alldata = sum(sums_args) ** 2\n",
      "/home/luisotavio/.local/lib/python3.8/site-packages/sklearn/feature_selection/_univariate_selection.py:99: RuntimeWarning: overflow encountered in square\n",
      "  square_of_sums_args = [s ** 2 for s in sums_args]\n",
      "/home/luisotavio/.local/lib/python3.8/site-packages/sklearn/feature_selection/_univariate_selection.py:100: RuntimeWarning: invalid value encountered in subtract\n",
      "  sstot = ss_alldata - square_of_sums_alldata / float(n_samples)\n",
      "/home/luisotavio/.local/lib/python3.8/site-packages/sklearn/feature_selection/_univariate_selection.py:104: RuntimeWarning: invalid value encountered in subtract\n",
      "  ssbn -= square_of_sums_alldata / float(n_samples)\n"
     ]
    },
    {
     "data": {
      "text/plain": [
       "(4, 624, 5)"
      ]
     },
     "execution_count": 31,
     "metadata": {},
     "output_type": "execute_result"
    }
   ],
   "source": [
    "from sklearn.feature_selection import SelectKBest\n",
    "\n",
    "canais = list()\n",
    "\n",
    "for c in data_t:\n",
    "    print(c.shape)\n",
    "    sel = SelectKBest(k=5)\n",
    "    vt = sel.fit_transform(c,y)\n",
    "    canais.append(vt)\n",
    "\n",
    "cbest = np.array(canais)\n",
    "\n",
    "# X_new = SelectKBest(k=5)\n",
    "# X_new.fit_transform(X,y)\n",
    "cbest.shape"
   ]
  },
  {
   "cell_type": "code",
   "execution_count": 32,
   "metadata": {},
   "outputs": [
    {
     "name": "stdout",
     "output_type": "stream",
     "text": [
      "classes amostras canais características\n"
     ]
    },
    {
     "data": {
      "text/plain": [
       "(624, 20)"
      ]
     },
     "execution_count": 32,
     "metadata": {},
     "output_type": "execute_result"
    }
   ],
   "source": [
    "X = cbest.transpose(1, 2, 0)\n",
    "print('classes', 'amostras', 'canais', 'características')\n",
    "# print(X.shape)\n",
    "X = X.reshape(X.shape[0], X.shape[2]*X.shape[1])\n",
    "X.shape"
   ]
  },
  {
   "cell_type": "code",
   "execution_count": 33,
   "metadata": {},
   "outputs": [],
   "source": [
    "from sklearn.model_selection import train_test_split\n",
    "from sklearn.svm import SVC\n",
    "\n",
    "# dividindo as porções de dados em treino e teste (70 e 30% respectivamente)\n",
    "# com embaralhamento sempre ativo (shuffle=True)\n",
    "X_train, X_test, y_train, y_test = train_test_split(X, y, test_size=0.3, shuffle=True)"
   ]
  },
  {
   "cell_type": "code",
   "execution_count": 34,
   "metadata": {},
   "outputs": [
    {
     "data": {
      "text/plain": [
       "SVC()"
      ]
     },
     "execution_count": 34,
     "metadata": {},
     "output_type": "execute_result"
    }
   ],
   "source": [
    "# modelo de classificador com os parâmetros padrões\n",
    "clf = SVC(gamma='scale')\n",
    "\n",
    "# criando o modelo de classificação com os dados de treino\n",
    "clf.fit(X_train, y_train)"
   ]
  },
  {
   "cell_type": "code",
   "execution_count": 35,
   "metadata": {},
   "outputs": [
    {
     "name": "stdout",
     "output_type": "stream",
     "text": [
      "Acurácia: 18.62%\n"
     ]
    }
   ],
   "source": [
    "# aplicando o classificador nos dados de teste\n",
    "res = clf.predict(X_test)\n",
    "\n",
    "# obtendo e ajustando os resultados \n",
    "tot_hit = sum([1 for i in range(len(res)) if res[i] == y_test[i]])\n",
    "print('Acurácia: {:.2f}%'.format(tot_hit / X_test.shape[0] * 100))"
   ]
  },
  {
   "cell_type": "code",
   "execution_count": null,
   "metadata": {},
   "outputs": [],
   "source": [
    "from sklearn.feature_selection import RFE\n",
    "from sklearn.svm import SVC\n",
    "\n",
    "estimator = SVC(kernel='linear')\n",
    "\n",
    "selector = RFE(estimator, n_features_to_select=5, step=1)\n",
    "\n",
    "selector = selector.fit_transform(X,y)"
   ]
  },
  {
   "cell_type": "code",
   "execution_count": null,
   "metadata": {},
   "outputs": [],
   "source": [
    "for i in combination(range(9),3):\n",
    "    X.take(i, axis=-1)"
   ]
  },
  {
   "cell_type": "code",
   "execution_count": null,
   "metadata": {},
   "outputs": [],
   "source": []
  },
  {
   "cell_type": "code",
   "execution_count": null,
   "metadata": {},
   "outputs": [],
   "source": [
    "# logdetector, wl, iemg"
   ]
  }
 ],
 "metadata": {
  "interpreter": {
   "hash": "916dbcbb3f70747c44a77c7bcd40155683ae19c65e1c03b4aa3499c5328201f1"
  },
  "kernelspec": {
   "display_name": "Python 3.8.10 64-bit",
   "language": "python",
   "name": "python3"
  },
  "language_info": {
   "codemirror_mode": {
    "name": "ipython",
    "version": 3
   },
   "file_extension": ".py",
   "mimetype": "text/x-python",
   "name": "python",
   "nbconvert_exporter": "python",
   "pygments_lexer": "ipython3",
   "version": "3.8.10"
  },
  "orig_nbformat": 4
 },
 "nbformat": 4,
 "nbformat_minor": 2
}
