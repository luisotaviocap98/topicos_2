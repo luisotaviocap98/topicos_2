{
 "cells": [
  {
   "cell_type": "markdown",
   "id": "c171afe3",
   "metadata": {},
   "source": [
    "# Rotulação e classificação dos dados"
   ]
  },
  {
   "cell_type": "markdown",
   "id": "bfd5abc5",
   "metadata": {},
   "source": [
    "## Criação do vetor de rótulos\n",
    "\n",
    "Verificar se foram concatenados amostras das 10 classes consecutivas (1) ou então os 6 trials de cada movimento consecutivos. Ex.:\n",
    "\n",
    "1. 1,2,3,4,5,6,7,8,9,10,1,2,3,4,5,6,7,8,9,10,...\n",
    "2. 1,1,1,1,1,1,1,1,1,1,2,2,2,2,2,2,2,2,2,2,3,..."
   ]
  },
  {
   "cell_type": "code",
   "execution_count": 1,
   "id": "05f43b38",
   "metadata": {},
   "outputs": [
    {
     "ename": "NameError",
     "evalue": "name 'X' is not defined",
     "output_type": "error",
     "traceback": [
      "\u001b[0;31m---------------------------------------------------------------------------\u001b[0m",
      "\u001b[0;31mNameError\u001b[0m                                 Traceback (most recent call last)",
      "Input \u001b[0;32mIn [1]\u001b[0m, in \u001b[0;36m<cell line: 1>\u001b[0;34m()\u001b[0m\n\u001b[0;32m----> 1\u001b[0m X \u001b[38;5;241m=\u001b[39m \u001b[43mX\u001b[49m\u001b[38;5;241m.\u001b[39mtranspose(\u001b[38;5;241m0\u001b[39m, \u001b[38;5;241m2\u001b[39m, \u001b[38;5;241m1\u001b[39m)\n\u001b[1;32m      2\u001b[0m X \u001b[38;5;241m=\u001b[39m X\u001b[38;5;241m.\u001b[39mreshape(\u001b[38;5;241m1200000\u001b[39m, \u001b[38;5;241m2\u001b[39m)\n\u001b[1;32m      4\u001b[0m X\u001b[38;5;241m.\u001b[39mshape\n",
      "\u001b[0;31mNameError\u001b[0m: name 'X' is not defined"
     ]
    }
   ],
   "source": [
    "X = X.transpose(0, 2, 1)\n",
    "X = X.reshape(1200000, 2)\n",
    "\n",
    "X.shape"
   ]
  },
  {
   "cell_type": "code",
   "execution_count": null,
   "id": "bdc60e82",
   "metadata": {},
   "outputs": [],
   "source": [
    "y = list(range(10))\n",
    "y *= int((X.shape[0] / 10))\n",
    "y = np.array(y)\n",
    "y.shape"
   ]
  },
  {
   "cell_type": "code",
   "execution_count": null,
   "id": "88c86ea8",
   "metadata": {},
   "outputs": [],
   "source": [
    "# correto\n",
    "\n",
    "y = np.array(list(range(1, 11)) * int(X.shape[0] / 10))\n",
    "y.shape"
   ]
  }
 ],
 "metadata": {
  "kernelspec": {
   "display_name": "Python 3 (ipykernel)",
   "language": "python",
   "name": "python3"
  },
  "language_info": {
   "codemirror_mode": {
    "name": "ipython",
    "version": 3
   },
   "file_extension": ".py",
   "mimetype": "text/x-python",
   "name": "python",
   "nbconvert_exporter": "python",
   "pygments_lexer": "ipython3",
   "version": "3.9.7"
  }
 },
 "nbformat": 4,
 "nbformat_minor": 5
}
