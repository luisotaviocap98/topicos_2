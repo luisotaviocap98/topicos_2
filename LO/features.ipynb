{
 "cells": [
  {
   "cell_type": "markdown",
   "id": "498e344d",
   "metadata": {},
   "source": [
    "# Extração e seleção de características\n",
    "\n",
    "As características que são extraídas dos dados dependem de sua natureza. Os dados EMG são sinais elétricos coletados dentro de um período de tempo, portanto são dados no domínio do tempo. As características deste domínio são extraídas dele. Também é possível transformar os dados EMG para o domínio da frequência e extrair características neste domínio. Existem diversas características que podem ser extraídas de cada domínio, entretando nem todas elas serão relevantes. Cada problema se beneficia de características ou combinações delas. Portanto, é preciso que haja uma seleção de características para encontrar a combinação de características que trará melhor resultado na posterior classificação dos dados."
   ]
  },
  {
   "cell_type": "markdown",
   "id": "c5ab992f",
   "metadata": {},
   "source": [
    "## Reutilizando os passos anteriores\n",
    "\n",
    "É necessário carregar os dados pré-processados, para dar início à extração de características. No jupyter notebook podemos utilizar o namespace completo de outro notebook:"
   ]
  },
  {
   "cell_type": "code",
   "execution_count": 1,
   "id": "dda6bf67",
   "metadata": {},
   "outputs": [
    {
     "name": "stdout",
     "output_type": "stream",
     "text": [
      "(20000, 2)\n",
      "(10, 6, 20000, 2) - (classes, ensaios, linhas, canais)\n",
      "(10, 6, 2, 20000) - (classes, ensaios, canais, linhas)\n",
      " (60, 2, 20000)\n",
      "Formato (shape) dos dados depois da divisão de janelas\n",
      "Dominio do tempo: (60, 2, 41, 1024) - (classes+ensaios, canais, janelas, linhas)\n",
      "Dominio da frequência:  (60, 2, 41, 513) - (classes+ensaios, canais, janelas, linhas)\n"
     ]
    }
   ],
   "source": [
    "%run preprocessing.ipynb"
   ]
  },
  {
   "cell_type": "markdown",
   "id": "e502801e",
   "metadata": {},
   "source": [
    "Uma característica é uma propriedade individual mensurável ou característica de um fenômeno que está sendo observado. Em EMG, uma característica pode ser extraída no domínio do tempo ou no domínio da frequência. As características a seguir foram retiradas do artigo *EMG Feature Extraction for Tolerance of White Gaussian Noise* \\[1\\].\n",
    "\n",
    "### Domínio do tempo\n",
    "\n",
    "1. Willison Amplitude (WAMP)\n",
    "\n",
    "    > $ \\sum_{i=1}^{N-1}f(|x_i - x_{i+1}|) $\n",
    "    \n",
    "    > $ f(x) = \\begin{cases} 1 & \\text{if } x \\gt threshold \\\\ 0 & \\text{otherwise} \\end{cases} $\n",
    "\n",
    "2. Variance of EMG (VAR)\n",
    "\n",
    "    > $ \\frac{1}{N-1}\\sum_{i=1}^{N}x_i^2 $\n",
    "\n",
    "3. Root Mean Square (RMS)\n",
    "\n",
    "    > $ \\sqrt{\\frac{1}{N}\\sum_{i=1}^{N}|x_i|^2} $\n",
    "\n",
    "4. Waveform Length (WL)\n",
    "    \n",
    "    > $ \\sum_{i=1}^{N-1}|x_{i+1} - x_i| $\n",
    "\n",
    "5. Zero Crossing (ZC)\n",
    "\n",
    "    > $ \\sum_{i=1}^{N}sgn([x_i - threshold][x_{i+1} - threshold]) $\n",
    "    \n",
    "    > $ sgn(x) = \\begin{cases} 1 & \\text{if } x \\gt threshold \\\\ 0 & \\text{otherwise} \\end{cases} $\n",
    "    \n",
    "    > $ threshold = mediana $\n",
    "\n",
    "### Domínio da frequência\n",
    "\n",
    "1. Median Frequency (FMD)\n",
    "\n",
    "    > $ \\frac{1}{2}\\sum_{j=1}^{M}PSD_j $\n",
    "\n",
    "2. Mean Frequency (FMN)\n",
    "\n",
    "    > $ \\sum_{j=1}^{M}f_j PSD_j \\Big{/} \\sum_{j=1}^{M}PSD_j $\n",
    "    \n",
    "    > $ f_j = j * SampleRate \\Big{/} 2 * M $\n",
    "\n",
    "3. Modified Median Frequency (MMDF)\n",
    "\n",
    "    > $ \\frac{1}{2}\\sum_{j=1}^{M}A_j $\n",
    "    \n",
    "    > $ A_j = Amplitude\\ do\\ espectro\\ j $\n",
    "\n",
    "4. Modified Frequency Mean (MMNF)\n",
    "\n",
    "    > $ \\sum_{j=1}^{M}f_jAj \\Big{/} \\sum_{j=1}^{M}Aj $\n",
    "\n",
    "\n",
    "\\[1\\] Phinyomark, Angkoon & Limsakul, Chusak & Phukpattaranont, P.. (2008). EMG Feature Extraction for Tolerance of White Gaussian Noise.\n",
    "[Disponível neste link](https://www.researchgate.net/publication/263765853_EMG_Feature_Extraction_for_Tolerance_of_White_Gaussian_Noise)\n",
    "\n",
    "**Desafio 1**: Descrever as características de acordo com o artigo citado e outros disponíveis relacionados. O que está querendo \"ser visto\" em cada característica? Qual é o significado matemático de cada uma delas?"
   ]
  },
  {
   "cell_type": "markdown",
   "id": "1cc6ab50",
   "metadata": {},
   "source": [
    "- WAMP:\n",
    "\n",
    "    Amplitude de Willison.\n",
    "    \n",
    "    Quantidade de alterações na amplitude do sinal qe excederam um limite.\n",
    "\n",
    "    Representa o nível de contração muscular.\n",
    "\n",
    "\n",
    "- VAR:\n",
    "\n",
    "    Variancia do sinal.\n",
    "\n",
    "    Detecta a força muscular.\n",
    "    \n",
    "\n",
    "- RMS: \n",
    "\n",
    "    Raiz quadrada média.\n",
    "\n",
    "    É o desvio padrão.\n",
    "\n",
    "    Detecta força constante e contração não fatigante.\n",
    "\n",
    "\n",
    "- WL:\n",
    "\n",
    "    Cumprimento de forma de onda.\n",
    "\n",
    "    É a amplituda da forma de onda.\n",
    "\n",
    "\n",
    "- ZC:\n",
    "\n",
    "    Cruzamento zero.\n",
    "\n",
    "    É a mudança de sinal de inclinação. Quantas vezes os sinais cruzam o zero.\n",
    "\n",
    "\n",
    "- FMD:\n",
    "\n",
    "    Frequência mediana.\n",
    "\n",
    "    É a frequência em que o espectro é dividido em duas regiãos de poder igual.\n",
    "\n",
    "- FMN:\n",
    "\n",
    "    Frequência média.\n",
    "\n",
    "    É a soma do produto do espectro de potência e a frequência, dividido pela soma da intensidade do espectograma.\n",
    "\n",
    "\n",
    "- MMDF:\n",
    "    \n",
    "    Frequência Mediana Modificada\n",
    "\n",
    "    É a frequência na qual o espectro é dividido em duas regiões com amplitude igual.\n",
    "\n",
    "- MMNF:\n",
    "\n",
    "    Média da frequência modificada.\n",
    "\n",
    "    É calculado como a soma do produto do espectro de amplitude e a frequência, dividido pela soma total da intensidade do espectro.\n",
    "\n"
   ]
  },
  {
   "cell_type": "markdown",
   "id": "b9cc5916",
   "metadata": {},
   "source": [
    "### Extraindo características\n",
    "\n",
    "É necessário implementar as características, geralmente em formato de funções ou métodos, para que seja possível aplicar tais funções aos dados de entrada e obter as características resultantes. A seguir temos a implementação das características VAR & RMS (domínio do tempo) e FDM & MMDF (domínio da frequência)."
   ]
  },
  {
   "cell_type": "code",
   "execution_count": 2,
   "id": "e15a73e9",
   "metadata": {},
   "outputs": [],
   "source": [
    "from math import prod\n",
    "\n",
    "# funções auxiliares\n",
    "def PSD(w):\n",
    "    ''' definição da função PSD para o sinal no domínio da frequência '''\n",
    "    return np.abs(w) ** 2\n",
    "\n",
    "\n",
    "# funções de extração de características\n",
    "\n",
    "def var(x):\n",
    "    return np.sum(x ** 2, axis=-1) / (np.prod(x.shape[:-1]) - 1)\n",
    "\n",
    "def rms(x):\n",
    "    return np.sqrt(np.sum(np.abs(x) ** 2, axis=-1) / (np.prod(x.shape[:-1])))\n",
    "\n",
    "def wamp(x):\n",
    "    limiar = np.abs(np.diff(x))\n",
    "    return np.sum(limiar > 0.4, axis=-1)\n",
    "\n",
    "def wl(x):\n",
    "    return np.sum(np.abs(np.diff(x)), axis=-1)\n",
    "\n",
    "def zc(x):\n",
    "    trs = 0.4\n",
    " \n",
    "    f = [1 if i*j <= 0 else 0 for i,j in zip(x[:,:,:,:-1], x[:,:,:,1:])]\n",
    "    \n",
    "    return np.sum(f)\n",
    "\n",
    "\n",
    "def fmd(w):\n",
    "    return np.sum(PSD(w), axis=-1) / 2\n",
    "\n",
    "def mmdf(w):\n",
    "    return np.sum(np.abs(w), axis=-1) / 2\n",
    "\n",
    "\n",
    "def fmn(w):\n",
    "    sample_rate = 4000\n",
    "    f = (w * sample_rate)/(2*len(w))\n",
    "    return np.sum(f*PSD(w), axis=-1)/np.sum(PSD(w), axis=-1)\n",
    "\n",
    "def mmnf(w):\n",
    "    sample_rate = 4000\n",
    "    f = (w * sample_rate)/(2*len(w))\n",
    "    return np.sum(f*np.abs(w), axis=-1)/np.sum(np.abs(w), axis=-1)"
   ]
  },
  {
   "cell_type": "markdown",
   "id": "9b29e8d7",
   "metadata": {},
   "source": [
    "**Desafio 2**: Implemente todas as características apresentadas neste tutorial em formato de funções. Sinta-se livre também para buscar e implementar características EMG além das apresentadas, citando as fontes de tais características.\n",
    "\n",
    "\n",
    "## Vetor de características\n",
    "\n",
    "Ao final da implementação e seleção das características, deve ser escolhida as características e então teremos um vetor com todas elas implementadas.\n",
    "\n",
    "O vetor de características estará organizado da seguinte forma (exemplo p/ VAR, RMS, RDM e MMDF):\n",
    "\n",
    "| ID sample | VAR1 | RMS1 | FMD1 | MMDF1 | VAR2 | RMS2 | FMD2 | MMDF2 | Classe |\n",
    "|:---------:|:----:|:----:|:----:|:-----:|------|------|------|-------|:------:|\n",
    "|     1     |  v1  |  v1  |  v1  |   v1  | v1   | v1   | v1   | v1    |    0   |\n",
    "|     2     |  v2  |  v2  |  v2  |   v2  | v2   | v2   | v2   | v2    |    0   |\n",
    "|    ...    |  ... |  ... |  ... |  ...  | ...  | ...  | ...  | ...   |   ...  |\n",
    "|     N     |  vN  |  vN  |  vN  |   vN  | vN   | vN   | vN   | vN    |    7   |\n",
    "\n",
    "## Implementação do vetor"
   ]
  },
  {
   "cell_type": "code",
   "execution_count": 3,
   "id": "61fc7ee4",
   "metadata": {},
   "outputs": [
    {
     "data": {
      "text/plain": [
       "(8, 60, 2, 41)"
      ]
     },
     "execution_count": 3,
     "metadata": {},
     "output_type": "execute_result"
    }
   ],
   "source": [
    "final_data = list()\n",
    "final_data.append(var(chunks_time))\n",
    "final_data.append(rms(chunks_time))\n",
    "final_data.append(fmd(chunks_freq))\n",
    "final_data.append(mmdf(chunks_freq))\n",
    "\n",
    "final_data.append(wamp(chunks_time))\n",
    "final_data.append(wl(chunks_time))\n",
    "# final_data.append(zc(chunks_time))\n",
    "final_data.append(fmn(chunks_freq))\n",
    "final_data.append(mmnf(chunks_freq))\n",
    "\n",
    "\n",
    "final = np.array(final_data)\n",
    "final.shape"
   ]
  },
  {
   "cell_type": "markdown",
   "id": "2d93df61",
   "metadata": {},
   "source": [
    "É necessário que seja reordenado as dimensões do vetor de características, pois cada característica (de cada canal), deve corresponder à última dimensão do vetor. Por fim, as outras dimensões são concatenadas para o número de amostras."
   ]
  },
  {
   "cell_type": "code",
   "execution_count": 4,
   "id": "b56d255e",
   "metadata": {},
   "outputs": [
    {
     "data": {
      "text/plain": [
       "(2460, 16)"
      ]
     },
     "execution_count": 4,
     "metadata": {},
     "output_type": "execute_result"
    }
   ],
   "source": [
    "data = final.transpose(1, 3, 2, 0)\n",
    "X = data.reshape(data.shape[0]*data.shape[1], data.shape[2]*data.shape[3])\n",
    "X.shape"
   ]
  },
  {
   "cell_type": "markdown",
   "id": "47fbd7ab",
   "metadata": {},
   "source": [
    "## Seleção de características\n",
    "\n",
    "Nesta etapa, são selecionadas as características que mais afetam positivamente no resultado final da classificação. Vamos estudar os métodos de seleção de características nesta [página do projeto sklearn](https://scikit-learn.org/stable/modules/feature_selection.html).\n",
    "\n",
    "**Desafio 3**: mostrar o resultado para os dados de trabalho, para os seguintes métodos se leção de características:\n",
    "- VarianceThreshold\n",
    "- Univariate feature selection\n",
    "    - escolha o que mais for \"interessante\": `SelectKBest`, `SelectPercentile` e `GenericUnivariateSelect`\n",
    "- Recursive feature elimination"
   ]
  },
  {
   "cell_type": "code",
   "execution_count": 5,
   "id": "e006418b",
   "metadata": {},
   "outputs": [
    {
     "data": {
      "text/plain": [
       "array([[ 1.18013064e-08+0.00000000e+00j,  1.08622777e-04+0.00000000e+00j,\n",
       "         6.77450315e-09+0.00000000e+00j, ...,\n",
       "         1.51831655e-02+0.00000000e+00j, -5.34920907e-06+1.29334326e-05j,\n",
       "        -1.03374574e-06+3.37498610e-06j],\n",
       "       [ 1.65546043e-08+0.00000000e+00j,  1.28651621e-04+0.00000000e+00j,\n",
       "         2.44195066e-08+0.00000000e+00j, ...,\n",
       "         1.65924260e-02+0.00000000e+00j,  4.31540025e-05+5.86385910e-05j,\n",
       "         1.45160986e-05+1.65734339e-05j],\n",
       "       [ 1.93659343e-08+0.00000000e+00j,  1.39147397e-04+0.00000000e+00j,\n",
       "         3.83861869e-08+0.00000000e+00j, ...,\n",
       "         1.75013536e-02+0.00000000e+00j,  2.78451452e-06+8.99093860e-06j,\n",
       "         3.03312178e-08+4.38762415e-06j],\n",
       "       ...,\n",
       "       [ 4.36418225e-08+0.00000000e+00j,  2.08885022e-04+0.00000000e+00j,\n",
       "         3.71419247e-08+0.00000000e+00j, ...,\n",
       "         4.65579455e-02+0.00000000e+00j, -6.18235775e-05+6.99482155e-05j,\n",
       "        -9.21113620e-06+1.72038188e-05j],\n",
       "       [ 3.48318810e-08+0.00000000e+00j,  1.86614044e-04+0.00000000e+00j,\n",
       "         3.00829112e-08+0.00000000e+00j, ...,\n",
       "         4.68359992e-02+0.00000000e+00j,  1.08809455e-05-8.24284343e-06j,\n",
       "         2.42856935e-06-2.38148832e-06j],\n",
       "       [ 2.51140483e-08+0.00000000e+00j,  1.58458019e-04+0.00000000e+00j,\n",
       "         1.97532373e-14+0.00000000e+00j, ...,\n",
       "         4.27082798e-02+0.00000000e+00j,  2.10451945e-09-1.81275911e-09j,\n",
       "         8.33790712e-10-4.77916556e-09j]])"
      ]
     },
     "execution_count": 5,
     "metadata": {},
     "output_type": "execute_result"
    }
   ],
   "source": [
    "X"
   ]
  },
  {
   "cell_type": "code",
   "execution_count": 6,
   "id": "efda17d1",
   "metadata": {},
   "outputs": [
    {
     "data": {
      "text/plain": [
       "array([1.18013064e-08+0.j, 1.65546043e-08+0.j, 1.93659343e-08+0.j, ...,\n",
       "       4.36418225e-08+0.j, 3.48318810e-08+0.j, 2.51140483e-08+0.j])"
      ]
     },
     "execution_count": 6,
     "metadata": {},
     "output_type": "execute_result"
    }
   ],
   "source": [
    "X[:,0]"
   ]
  },
  {
   "cell_type": "code",
   "execution_count": 7,
   "id": "06f3f2a5",
   "metadata": {},
   "outputs": [
    {
     "data": {
      "text/plain": [
       "array([[ 1.18013064e-08,  1.08622777e-04,  6.77450315e-09, ...,\n",
       "         1.51831655e-02, -5.34920907e-06, -1.03374574e-06],\n",
       "       [ 1.65546043e-08,  1.28651621e-04,  2.44195066e-08, ...,\n",
       "         1.65924260e-02,  4.31540025e-05,  1.45160986e-05],\n",
       "       [ 1.93659343e-08,  1.39147397e-04,  3.83861869e-08, ...,\n",
       "         1.75013536e-02,  2.78451452e-06,  3.03312178e-08],\n",
       "       ...,\n",
       "       [ 4.36418225e-08,  2.08885022e-04,  3.71419247e-08, ...,\n",
       "         4.65579455e-02, -6.18235775e-05, -9.21113620e-06],\n",
       "       [ 3.48318810e-08,  1.86614044e-04,  3.00829112e-08, ...,\n",
       "         4.68359992e-02,  1.08809455e-05,  2.42856935e-06],\n",
       "       [ 2.51140483e-08,  1.58458019e-04,  1.97532373e-14, ...,\n",
       "         4.27082798e-02,  2.10451945e-09,  8.33790712e-10]])"
      ]
     },
     "execution_count": 7,
     "metadata": {},
     "output_type": "execute_result"
    }
   ],
   "source": [
    "X = np.real(X)\n",
    "X"
   ]
  },
  {
   "cell_type": "code",
   "execution_count": 10,
   "id": "477dc18e",
   "metadata": {},
   "outputs": [],
   "source": [
    "y = np.array(list(range(1, 11)) * int(X.shape[0] / 10))"
   ]
  },
  {
   "cell_type": "code",
   "execution_count": 17,
   "id": "483f1efd",
   "metadata": {},
   "outputs": [
    {
     "data": {
      "text/plain": [
       "array([ 1,  2,  3,  4,  5,  6,  7,  8,  9, 10,  1,  2,  3,  4,  5])"
      ]
     },
     "execution_count": 17,
     "metadata": {},
     "output_type": "execute_result"
    }
   ],
   "source": [
    "y[:15]"
   ]
  },
  {
   "cell_type": "code",
   "execution_count": 8,
   "id": "aa9a63f5",
   "metadata": {},
   "outputs": [
    {
     "data": {
      "text/plain": [
       "array([[ 1.18013064e-08,  1.08622777e-04,  6.77450315e-09, ...,\n",
       "         1.51831655e-02, -5.34920907e-06, -1.03374574e-06],\n",
       "       [ 1.65546043e-08,  1.28651621e-04,  2.44195066e-08, ...,\n",
       "         1.65924260e-02,  4.31540025e-05,  1.45160986e-05],\n",
       "       [ 1.93659343e-08,  1.39147397e-04,  3.83861869e-08, ...,\n",
       "         1.75013536e-02,  2.78451452e-06,  3.03312178e-08],\n",
       "       ...,\n",
       "       [ 4.36418225e-08,  2.08885022e-04,  3.71419247e-08, ...,\n",
       "         4.65579455e-02, -6.18235775e-05, -9.21113620e-06],\n",
       "       [ 3.48318810e-08,  1.86614044e-04,  3.00829112e-08, ...,\n",
       "         4.68359992e-02,  1.08809455e-05,  2.42856935e-06],\n",
       "       [ 2.51140483e-08,  1.58458019e-04,  1.97532373e-14, ...,\n",
       "         4.27082798e-02,  2.10451945e-09,  8.33790712e-10]])"
      ]
     },
     "execution_count": 8,
     "metadata": {},
     "output_type": "execute_result"
    }
   ],
   "source": [
    "from sklearn.feature_selection import VarianceThreshold\n",
    "\n",
    "selector = VarianceThreshold()\n",
    "selector.fit_transform(X)\n",
    "# data[data.columns[selector.get_support(indices=True)]]"
   ]
  },
  {
   "cell_type": "code",
   "execution_count": 11,
   "id": "a45a1719",
   "metadata": {},
   "outputs": [
    {
     "name": "stderr",
     "output_type": "stream",
     "text": [
      "/home/luisotavio/.local/lib/python3.8/site-packages/sklearn/feature_selection/_univariate_selection.py:112: UserWarning: Features [ 4 12] are constant.\n",
      "  warnings.warn(\"Features %s are constant.\" % constant_features_idx, UserWarning)\n",
      "/home/luisotavio/.local/lib/python3.8/site-packages/sklearn/feature_selection/_univariate_selection.py:113: RuntimeWarning: invalid value encountered in true_divide\n",
      "  f = msb / msw\n"
     ]
    },
    {
     "data": {
      "text/plain": [
       "array([[ 6.77450315e-09, -2.19255076e-05, -7.09062848e-06,\n",
       "         6.71193684e-10,  1.51831655e-02],\n",
       "       [ 2.44195066e-08, -4.12060002e-05, -2.40040809e-05,\n",
       "         8.25168345e-10,  1.65924260e-02],\n",
       "       [ 3.83861869e-08, -1.37279217e-04, -3.15881029e-05,\n",
       "         9.49938587e-10,  1.75013536e-02],\n",
       "       ...,\n",
       "       [ 3.71419247e-08, -1.45826107e-05,  1.10308203e-05,\n",
       "         8.37222149e-09,  4.65579455e-02],\n",
       "       [ 3.00829112e-08,  5.42897382e-05,  1.74434064e-05,\n",
       "         9.10160853e-09,  4.68359992e-02],\n",
       "       [ 1.97532373e-14, -6.59086878e-09, -2.04121125e-09,\n",
       "         7.25901078e-09,  4.27082798e-02]])"
      ]
     },
     "execution_count": 11,
     "metadata": {},
     "output_type": "execute_result"
    }
   ],
   "source": [
    "from sklearn.feature_selection import SelectKBest\n",
    "\n",
    "X_new = SelectKBest(k=5)\n",
    "X_new.fit_transform(X,y)\n",
    "# X_new.feature_names_in_"
   ]
  },
  {
   "cell_type": "code",
   "execution_count": 19,
   "id": "1ffdbad7",
   "metadata": {},
   "outputs": [
    {
     "data": {
      "text/plain": [
       "array([[ 5.62231411e-04,  6.80664130e-02, -2.19255076e-05,\n",
       "         1.31113978e-04,  1.51831655e-02],\n",
       "       [ 1.00414068e-03,  7.36748266e-02, -4.12060002e-05,\n",
       "         2.14729409e-04,  1.65924260e-02],\n",
       "       [ 1.19850953e-03,  7.49454829e-02, -1.37279217e-04,\n",
       "         2.72555549e-04,  1.75013536e-02],\n",
       "       ...,\n",
       "       [ 1.04108269e-03,  9.30560410e-02, -1.45826107e-05,\n",
       "         6.33315154e-04,  4.65579455e-02],\n",
       "       [ 1.03131990e-03,  8.30985797e-02,  5.42897382e-05,\n",
       "         5.89220008e-04,  4.68359992e-02],\n",
       "       [ 1.39476118e-06,  7.06532971e-02, -6.59086878e-09,\n",
       "         3.44956831e-07,  4.27082798e-02]])"
      ]
     },
     "execution_count": 19,
     "metadata": {},
     "output_type": "execute_result"
    }
   ],
   "source": [
    "from sklearn.feature_selection import RFE\n",
    "from sklearn.svm import SVC\n",
    "\n",
    "estimator = SVC(kernel='linear')\n",
    "\n",
    "selector = RFE(estimator, n_features_to_select=5, step=1)\n",
    "\n",
    "selector = selector.fit_transform(X,y)\n",
    "selector\n",
    "# selector.feature_names_in_"
   ]
  },
  {
   "cell_type": "code",
   "execution_count": 20,
   "id": "c9a12971",
   "metadata": {},
   "outputs": [
    {
     "data": {
      "text/plain": [
       "(2460, 5)"
      ]
     },
     "execution_count": 20,
     "metadata": {},
     "output_type": "execute_result"
    }
   ],
   "source": [
    "np.array(selector).shape"
   ]
  },
  {
   "cell_type": "code",
   "execution_count": 23,
   "id": "782c2ca9",
   "metadata": {},
   "outputs": [
    {
     "data": {
      "text/plain": [
       "(2460, 16)"
      ]
     },
     "execution_count": 23,
     "metadata": {},
     "output_type": "execute_result"
    }
   ],
   "source": [
    "X.shape"
   ]
  },
  {
   "cell_type": "code",
   "execution_count": 24,
   "id": "626065ba",
   "metadata": {},
   "outputs": [
    {
     "data": {
      "text/plain": [
       "(2460,)"
      ]
     },
     "execution_count": 24,
     "metadata": {},
     "output_type": "execute_result"
    }
   ],
   "source": [
    "y.shape"
   ]
  },
  {
   "cell_type": "code",
   "execution_count": 37,
   "id": "9c200d73",
   "metadata": {},
   "outputs": [
    {
     "data": {
      "image/png": "[encoded data removed]",
      "text/plain": [
       "<Figure size 432x288 with 1 Axes>"
      ]
     },
     "metadata": {
      "needs_background": "light"
     },
     "output_type": "display_data"
    }
   ],
   "source": [
    "import matplotlib.pyplot as plt\n",
    "\n",
    "plt.scatter(selector[0],selector[1], c=selector[1])\n",
    "plt.show()"
   ]
  },
  {
   "cell_type": "code",
   "execution_count": 42,
   "id": "3cca8b6e",
   "metadata": {},
   "outputs": [
    {
     "data": {
      "image/png": "[encoded data removed]",
      "text/plain": [
       "<Figure size 432x288 with 1 Axes>"
      ]
     },
     "metadata": {
      "needs_background": "light"
     },
     "output_type": "display_data"
    }
   ],
   "source": [
    "plt.scatter(X[:,0],y, c=y)\n",
    "plt.show()"
   ]
  }
 ],
 "metadata": {
  "kernelspec": {
   "display_name": "Python 3 (ipykernel)",
   "language": "python",
   "name": "python3"
  },
  "language_info": {
   "codemirror_mode": {
    "name": "ipython",
    "version": 3
   },
   "file_extension": ".py",
   "mimetype": "text/x-python",
   "name": "python",
   "nbconvert_exporter": "python",
   "pygments_lexer": "ipython3",
   "version": "3.8.10"
  }
 },
 "nbformat": 4,
 "nbformat_minor": 5
}
