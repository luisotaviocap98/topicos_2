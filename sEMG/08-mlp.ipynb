{
 "cells": [
  {
   "cell_type": "markdown",
   "id": "c4ca6926",
   "metadata": {},
   "source": [
    "## Aplicando *Multilayer Perceptron*\n",
    "\n",
    "Está demonstrado neste ponto a execução de um Multilayer Perceptron (MLP) utilizando o framework para construção e execução de Redes Neurais Artificias (RNN) Keras.\n",
    "\n",
    "Vamos iniciar mostrando como carregar uma base de dados da UCI e utilizar o classificador ID3 obtido por meio scikit learn. A base de dados é a Car Evaluation Data Set (https://archive.ics.uci.edu/ml/datasets/Car+Evaluation).\n",
    "\n",
    "O dataset possui os seguintes atributos:\n",
    "\n",
    "- buying: vhigh, high, med, low.\n",
    "- maint: vhigh, high, med, low.\n",
    "- doors: 2, 3, 4, 5more.\n",
    "- persons: 2, 4, more.\n",
    "- lug_boot: small, med, big.\n",
    "- safety: low, med, high.\n",
    "E as seguintes classes: unacc, acc, good, vgood\n",
    "\n",
    "### Definição de todas as bibliotecas"
   ]
  },
  {
   "cell_type": "code",
   "execution_count": 1,
   "id": "2ab2c4bd",
   "metadata": {},
   "outputs": [
    {
     "name": "stderr",
     "output_type": "stream",
     "text": [
      "2022-06-01 22:33:49.435899: I tensorflow/core/util/util.cc:169] oneDNN custom operations are on. You may see slightly different numerical results due to floating-point round-off errors from different computation orders. To turn them off, set the environment variable `TF_ENABLE_ONEDNN_OPTS=0`.\n",
      "2022-06-01 22:33:49.439187: W tensorflow/stream_executor/platform/default/dso_loader.cc:64] Could not load dynamic library 'libcudart.so.11.0'; dlerror: libcudart.so.11.0: cannot open shared object file: No such file or directory\n",
      "2022-06-01 22:33:49.439201: I tensorflow/stream_executor/cuda/cudart_stub.cc:29] Ignore above cudart dlerror if you do not have a GPU set up on your machine.\n"
     ]
    }
   ],
   "source": [
    "from keras import regularizers\n",
    "from keras.models import Sequential\n",
    "from keras.layers import Dense, Dropout\n",
    "from keras.optimizers import SGD, Adam\n",
    "from keras.utils.np_utils import to_categorical\n",
    "import numpy as np\n",
    "from sklearn.metrics import classification_report, accuracy_score, confusion_matrix\n",
    "from sklearn.model_selection import GridSearchCV, train_test_split\n",
    "from sklearn.preprocessing import LabelEncoder\n",
    "from urllib.request import urlopen, urlretrieve\n",
    "\n",
    "import matplotlib.pyplot as plt\n",
    "%matplotlib inline"
   ]
  },
  {
   "cell_type": "markdown",
   "id": "028a8dc6",
   "metadata": {},
   "source": [
    "### Código para o carregamento da base de dados\n",
    "\n",
    "Após o carregamento dos dados, é utilizado a função LabelEncoder para transformar os dados de categóricos para numéricos."
   ]
  },
  {
   "cell_type": "code",
   "execution_count": 2,
   "id": "fd7ac416",
   "metadata": {},
   "outputs": [
    {
     "name": "stdout",
     "output_type": "stream",
     "text": [
      "[['vhigh' 'vhigh' '2' ... 'small' 'low' 'unacc']\n",
      " ['vhigh' 'vhigh' '2' ... 'small' 'med' 'unacc']\n",
      " ['vhigh' 'vhigh' '2' ... 'small' 'high' 'unacc']\n",
      " ...\n",
      " ['low' 'low' '5more' ... 'big' 'low' 'unacc']\n",
      " ['low' 'low' '5more' ... 'big' 'med' 'good']\n",
      " ['low' 'low' '5more' ... 'big' 'high' 'vgood']]\n",
      "1728\n",
      "(1728, 7)\n"
     ]
    }
   ],
   "source": [
    "url = 'https://archive.ics.uci.edu/ml/machine-learning-databases/car/car.data'\n",
    "urlretrieve(url, 'car.txt')\n",
    "filedata = open('car.txt')\n",
    "data = filedata.read()\n",
    "dataset = np.array([s.split(',') for s in data.split('\\n')][:-1])\n",
    "print(dataset)\n",
    "print(len(dataset))\n",
    "print(dataset.shape)\n",
    "\n",
    "# Transformação dos valores de categórico para numérico\n",
    "le = LabelEncoder()\n",
    "features = np.array([le.fit_transform(f) for f in dataset[:, :-1].T]).T\n",
    "\n",
    "# obtendo a coluna com as respostas\n",
    "labels = le.fit_transform(dataset[:, -1])\n",
    "categorical_labels = to_categorical(labels, num_classes=len(set(labels)))"
   ]
  },
  {
   "cell_type": "code",
   "execution_count": 3,
   "id": "d8319569",
   "metadata": {},
   "outputs": [
    {
     "data": {
      "text/plain": [
       "array([[0., 0., 1., 0.],\n",
       "       [0., 0., 1., 0.],\n",
       "       [0., 0., 1., 0.],\n",
       "       ...,\n",
       "       [0., 0., 1., 0.],\n",
       "       [0., 1., 0., 0.],\n",
       "       [0., 0., 0., 1.]], dtype=float32)"
      ]
     },
     "execution_count": 3,
     "metadata": {},
     "output_type": "execute_result"
    }
   ],
   "source": [
    "categorical_labels"
   ]
  },
  {
   "cell_type": "code",
   "execution_count": 8,
   "id": "33b8f747",
   "metadata": {},
   "outputs": [
    {
     "data": {
      "text/plain": [
       "(1728, 4)"
      ]
     },
     "execution_count": 8,
     "metadata": {},
     "output_type": "execute_result"
    }
   ],
   "source": [
    "categorical_labels.shape"
   ]
  },
  {
   "cell_type": "markdown",
   "id": "0e67456f",
   "metadata": {},
   "source": [
    "### Desenvolvimento da função para plotar os custos e as acurácias:"
   ]
  },
  {
   "cell_type": "code",
   "execution_count": 4,
   "id": "446c82e7",
   "metadata": {},
   "outputs": [],
   "source": [
    "def plot_history(h):\n",
    "    loss_list = [s for s in h.history.keys() if 'loss' in s and 'val' not in s]\n",
    "    val_loss_list = [s for s in h.history.keys() if 'loss' in s and 'val' in s]\n",
    "    acc_list = [s for s in h.history.keys() if 'acc' in s and 'val' not in s]\n",
    "    val_acc_list = [s for s in h.history.keys() if 'acc' in s and 'val' in s]\n",
    "    if len(loss_list) == 0:\n",
    "        print('Custo não está presente no histórico')\n",
    "        return\n",
    "    epochs = range(1, len(history.history[loss_list[0]]) + 1)\n",
    "    # Custo\n",
    "    plt.figure(1)\n",
    "    for l in loss_list:\n",
    "        plt.plot(epochs, h.history[l], 'b',\n",
    "                 label='Custo [treinamento] (' + str(str(format(\n",
    "                    h.history[l][-1],'.5f'))+')'))\n",
    "    for l in val_loss_list:\n",
    "        plt.plot(epochs, h.history[l], 'g',\n",
    "                 label='Custo [validação] (' + str(str(format(\n",
    "                    h.history[l][-1],'.5f'))+')'))\n",
    "    plt.title('Custo')\n",
    "    plt.xlabel('Épocas')\n",
    "    plt.ylabel('Custo')\n",
    "    plt.legend()\n",
    "    # Acurácia\n",
    "    plt.figure(2)\n",
    "    for l in acc_list:\n",
    "        plt.plot(epochs, h.history[l], 'b',\n",
    "                 label='Acurácia [treinamento] (' + str(format(\n",
    "                    h.history[l][-1],'.5f'))+')')\n",
    "    for l in val_acc_list:\n",
    "        plt.plot(epochs, h.history[l], 'g',\n",
    "                 label='Acurácia [validação] (' + str(format(\n",
    "                    h.history[l][-1],'.5f'))+')')\n",
    "    plt.title('Acurácia')\n",
    "    plt.xlabel('Épocas')\n",
    "    plt.ylabel('Acurácia')\n",
    "    plt.legend()\n",
    "    plt.show()"
   ]
  },
  {
   "cell_type": "code",
   "execution_count": 5,
   "id": "b555ff54",
   "metadata": {},
   "outputs": [],
   "source": [
    "# plot_history(features)"
   ]
  },
  {
   "cell_type": "markdown",
   "id": "da08ad62",
   "metadata": {},
   "source": [
    "### Divisão dos dados em treino e teste:"
   ]
  },
  {
   "cell_type": "code",
   "execution_count": 6,
   "id": "3b15f5be",
   "metadata": {},
   "outputs": [],
   "source": [
    "# Dividindo em conjuntos de treino (80%) e teste (20%)\n",
    "X_train, X_test, y_train, y_test = train_test_split(\n",
    "    features, categorical_labels, test_size=0.3)\n",
    "\n",
    "# treino: 80% dos 80% de treino. teste: 20% dos 80% de treino.\n",
    "X_train, X_val, y_train, y_val = train_test_split(\n",
    "    X_train, y_train, test_size=0.3, shuffle=True)"
   ]
  },
  {
   "cell_type": "code",
   "execution_count": 7,
   "id": "7e7571d9",
   "metadata": {},
   "outputs": [
    {
     "data": {
      "text/plain": [
       "((846, 6), (363, 6), (846, 4), (363, 4))"
      ]
     },
     "execution_count": 7,
     "metadata": {},
     "output_type": "execute_result"
    }
   ],
   "source": [
    "X_train.shape, X_val.shape, y_train.shape, y_val.shape"
   ]
  },
  {
   "cell_type": "markdown",
   "id": "59d19ff3",
   "metadata": {},
   "source": [
    "### Aplicação do algoritmo de MLP e geração dos resultados:"
   ]
  },
  {
   "cell_type": "code",
   "execution_count": 11,
   "id": "376a2e82",
   "metadata": {},
   "outputs": [
    {
     "name": "stdout",
     "output_type": "stream",
     "text": [
      "Epoch 1/150\n"
     ]
    },
    {
     "name": "stderr",
     "output_type": "stream",
     "text": [
      "2022-05-31 15:22:03.345325: W tensorflow/stream_executor/platform/default/dso_loader.cc:64] Could not load dynamic library 'libcuda.so.1'; dlerror: libcuda.so.1: cannot open shared object file: No such file or directory\n",
      "2022-05-31 15:22:03.345340: W tensorflow/stream_executor/cuda/cuda_driver.cc:269] failed call to cuInit: UNKNOWN ERROR (303)\n",
      "2022-05-31 15:22:03.345354: I tensorflow/stream_executor/cuda/cuda_diagnostics.cc:156] kernel driver does not appear to be running on this host (luisotavio-Aspire5): /proc/driver/nvidia/version does not exist\n",
      "2022-05-31 15:22:03.345512: I tensorflow/core/platform/cpu_feature_guard.cc:193] This TensorFlow binary is optimized with oneAPI Deep Neural Network Library (oneDNN) to use the following CPU instructions in performance-critical operations:  AVX2 AVX512F AVX512_VNNI FMA\n",
      "To enable them in other operations, rebuild TensorFlow with the appropriate compiler flags.\n",
      "/home/luisotavio/.local/lib/python3.8/site-packages/keras/optimizers/optimizer_v2/gradient_descent.py:108: UserWarning: The `lr` argument is deprecated, use `learning_rate` instead.\n",
      "  super(SGD, self).__init__(name, **kwargs)\n",
      "/home/luisotavio/.local/lib/python3.8/site-packages/keras/optimizers/optimizer_v2/adam.py:110: UserWarning: The `lr` argument is deprecated, use `learning_rate` instead.\n",
      "  super(Adam, self).__init__(name, **kwargs)\n"
     ]
    },
    {
     "name": "stdout",
     "output_type": "stream",
     "text": [
      "57/57 [==============================] - 1s 3ms/step - loss: 1.0483 - accuracy: 0.6832 - val_loss: 0.8737 - val_accuracy: 0.7273\n",
      "Epoch 2/150\n",
      "57/57 [==============================] - 0s 2ms/step - loss: 0.8439 - accuracy: 0.7092 - val_loss: 0.7820 - val_accuracy: 0.7328\n",
      "Epoch 3/150\n",
      "57/57 [==============================] - 0s 3ms/step - loss: 0.7856 - accuracy: 0.7139 - val_loss: 0.7395 - val_accuracy: 0.7383\n",
      "Epoch 4/150\n",
      "57/57 [==============================] - 0s 3ms/step - loss: 0.7328 - accuracy: 0.7400 - val_loss: 0.6933 - val_accuracy: 0.7521\n",
      "Epoch 5/150\n",
      "57/57 [==============================] - 0s 3ms/step - loss: 0.6950 - accuracy: 0.7482 - val_loss: 0.6729 - val_accuracy: 0.7686\n",
      "Epoch 6/150\n",
      "57/57 [==============================] - 0s 2ms/step - loss: 0.6602 - accuracy: 0.7719 - val_loss: 0.6225 - val_accuracy: 0.7989\n",
      "Epoch 7/150\n",
      "57/57 [==============================] - 0s 3ms/step - loss: 0.6288 - accuracy: 0.7790 - val_loss: 0.5884 - val_accuracy: 0.7961\n",
      "Epoch 8/150\n",
      "57/57 [==============================] - 0s 2ms/step - loss: 0.5916 - accuracy: 0.8014 - val_loss: 0.5445 - val_accuracy: 0.8044\n",
      "Epoch 9/150\n",
      "57/57 [==============================] - 0s 2ms/step - loss: 0.5861 - accuracy: 0.8014 - val_loss: 0.5153 - val_accuracy: 0.8320\n",
      "Epoch 10/150\n",
      "57/57 [==============================] - 0s 2ms/step - loss: 0.5442 - accuracy: 0.8227 - val_loss: 0.5206 - val_accuracy: 0.8457\n",
      "Epoch 11/150\n",
      "57/57 [==============================] - 0s 2ms/step - loss: 0.5252 - accuracy: 0.8310 - val_loss: 0.4941 - val_accuracy: 0.8099\n",
      "Epoch 12/150\n",
      "57/57 [==============================] - 0s 2ms/step - loss: 0.5119 - accuracy: 0.8310 - val_loss: 0.4947 - val_accuracy: 0.8017\n",
      "Epoch 13/150\n",
      "57/57 [==============================] - 0s 2ms/step - loss: 0.5057 - accuracy: 0.8203 - val_loss: 0.4621 - val_accuracy: 0.8485\n",
      "Epoch 14/150\n",
      "57/57 [==============================] - 0s 2ms/step - loss: 0.4828 - accuracy: 0.8392 - val_loss: 0.4879 - val_accuracy: 0.8485\n",
      "Epoch 15/150\n",
      "57/57 [==============================] - 0s 2ms/step - loss: 0.4659 - accuracy: 0.8617 - val_loss: 0.4680 - val_accuracy: 0.8402\n",
      "Epoch 16/150\n",
      "57/57 [==============================] - 0s 2ms/step - loss: 0.4630 - accuracy: 0.8546 - val_loss: 0.4322 - val_accuracy: 0.8485\n",
      "Epoch 17/150\n",
      "57/57 [==============================] - 0s 2ms/step - loss: 0.4406 - accuracy: 0.8546 - val_loss: 0.4355 - val_accuracy: 0.8512\n",
      "Epoch 18/150\n",
      "57/57 [==============================] - 0s 2ms/step - loss: 0.4321 - accuracy: 0.8806 - val_loss: 0.4096 - val_accuracy: 0.8871\n",
      "Epoch 19/150\n",
      "57/57 [==============================] - 0s 2ms/step - loss: 0.4339 - accuracy: 0.8676 - val_loss: 0.4438 - val_accuracy: 0.8347\n",
      "Epoch 20/150\n",
      "57/57 [==============================] - 0s 2ms/step - loss: 0.4467 - accuracy: 0.8558 - val_loss: 0.4094 - val_accuracy: 0.8898\n",
      "Epoch 21/150\n",
      "57/57 [==============================] - 0s 2ms/step - loss: 0.4309 - accuracy: 0.8676 - val_loss: 0.4243 - val_accuracy: 0.8512\n",
      "Epoch 22/150\n",
      "57/57 [==============================] - 0s 2ms/step - loss: 0.4247 - accuracy: 0.8676 - val_loss: 0.4299 - val_accuracy: 0.8430\n",
      "Epoch 23/150\n",
      "57/57 [==============================] - 0s 2ms/step - loss: 0.4220 - accuracy: 0.8641 - val_loss: 0.3923 - val_accuracy: 0.8733\n",
      "Epoch 24/150\n",
      "57/57 [==============================] - 0s 2ms/step - loss: 0.4233 - accuracy: 0.8759 - val_loss: 0.3845 - val_accuracy: 0.8843\n",
      "Epoch 25/150\n",
      "57/57 [==============================] - 0s 2ms/step - loss: 0.3884 - accuracy: 0.8936 - val_loss: 0.3907 - val_accuracy: 0.9063\n",
      "Epoch 26/150\n",
      "57/57 [==============================] - 0s 1ms/step - loss: 0.3770 - accuracy: 0.9102 - val_loss: 0.3813 - val_accuracy: 0.9339\n",
      "Epoch 27/150\n",
      "57/57 [==============================] - 0s 2ms/step - loss: 0.3687 - accuracy: 0.9113 - val_loss: 0.3701 - val_accuracy: 0.9063\n",
      "Epoch 28/150\n",
      "57/57 [==============================] - 0s 2ms/step - loss: 0.3819 - accuracy: 0.9043 - val_loss: 0.3521 - val_accuracy: 0.9091\n",
      "Epoch 29/150\n",
      "57/57 [==============================] - 0s 2ms/step - loss: 0.3693 - accuracy: 0.9078 - val_loss: 0.3811 - val_accuracy: 0.9174\n",
      "Epoch 30/150\n",
      "57/57 [==============================] - 0s 2ms/step - loss: 0.3648 - accuracy: 0.9220 - val_loss: 0.3644 - val_accuracy: 0.9091\n",
      "Epoch 31/150\n",
      "57/57 [==============================] - 0s 2ms/step - loss: 0.3601 - accuracy: 0.9161 - val_loss: 0.3854 - val_accuracy: 0.9091\n",
      "Epoch 32/150\n",
      "57/57 [==============================] - 0s 2ms/step - loss: 0.3484 - accuracy: 0.9255 - val_loss: 0.3430 - val_accuracy: 0.9421\n",
      "Epoch 33/150\n",
      "57/57 [==============================] - 0s 2ms/step - loss: 0.3489 - accuracy: 0.9149 - val_loss: 0.3594 - val_accuracy: 0.9036\n",
      "Epoch 34/150\n",
      "57/57 [==============================] - 0s 2ms/step - loss: 0.3400 - accuracy: 0.9374 - val_loss: 0.3752 - val_accuracy: 0.8926\n",
      "Epoch 35/150\n",
      "57/57 [==============================] - 0s 2ms/step - loss: 0.3493 - accuracy: 0.9232 - val_loss: 0.3333 - val_accuracy: 0.9229\n",
      "Epoch 36/150\n",
      "57/57 [==============================] - 0s 2ms/step - loss: 0.3354 - accuracy: 0.9362 - val_loss: 0.3355 - val_accuracy: 0.9504\n",
      "Epoch 37/150\n",
      "57/57 [==============================] - 0s 2ms/step - loss: 0.3382 - accuracy: 0.9243 - val_loss: 0.3620 - val_accuracy: 0.9311\n",
      "Epoch 38/150\n",
      "57/57 [==============================] - 0s 2ms/step - loss: 0.3344 - accuracy: 0.9303 - val_loss: 0.3761 - val_accuracy: 0.9146\n",
      "Epoch 39/150\n",
      "57/57 [==============================] - 0s 2ms/step - loss: 0.3399 - accuracy: 0.9303 - val_loss: 0.3216 - val_accuracy: 0.9394\n",
      "Epoch 40/150\n",
      "57/57 [==============================] - 0s 2ms/step - loss: 0.3304 - accuracy: 0.9444 - val_loss: 0.3306 - val_accuracy: 0.9339\n",
      "Epoch 41/150\n",
      "57/57 [==============================] - 0s 2ms/step - loss: 0.3301 - accuracy: 0.9397 - val_loss: 0.3328 - val_accuracy: 0.9174\n",
      "Epoch 42/150\n",
      "57/57 [==============================] - 0s 2ms/step - loss: 0.3142 - accuracy: 0.9433 - val_loss: 0.3269 - val_accuracy: 0.9477\n",
      "Epoch 43/150\n",
      "57/57 [==============================] - 0s 2ms/step - loss: 0.3135 - accuracy: 0.9468 - val_loss: 0.3218 - val_accuracy: 0.9311\n",
      "Epoch 44/150\n",
      "57/57 [==============================] - 0s 2ms/step - loss: 0.3044 - accuracy: 0.9421 - val_loss: 0.3515 - val_accuracy: 0.9311\n",
      "Epoch 45/150\n",
      "57/57 [==============================] - 0s 1ms/step - loss: 0.3301 - accuracy: 0.9232 - val_loss: 0.3136 - val_accuracy: 0.9366\n",
      "Epoch 46/150\n",
      "57/57 [==============================] - 0s 2ms/step - loss: 0.3190 - accuracy: 0.9314 - val_loss: 0.3278 - val_accuracy: 0.9229\n",
      "Epoch 47/150\n",
      "57/57 [==============================] - 0s 2ms/step - loss: 0.3032 - accuracy: 0.9433 - val_loss: 0.3178 - val_accuracy: 0.9339\n",
      "Epoch 48/150\n",
      "57/57 [==============================] - 0s 1ms/step - loss: 0.2980 - accuracy: 0.9456 - val_loss: 0.2975 - val_accuracy: 0.9532\n",
      "Epoch 49/150\n",
      "57/57 [==============================] - 0s 2ms/step - loss: 0.3013 - accuracy: 0.9409 - val_loss: 0.3247 - val_accuracy: 0.9256\n",
      "Epoch 50/150\n",
      "57/57 [==============================] - 0s 2ms/step - loss: 0.2962 - accuracy: 0.9480 - val_loss: 0.3018 - val_accuracy: 0.9477\n",
      "Epoch 51/150\n",
      "57/57 [==============================] - 0s 2ms/step - loss: 0.2991 - accuracy: 0.9504 - val_loss: 0.3106 - val_accuracy: 0.9449\n",
      "Epoch 52/150\n",
      "57/57 [==============================] - 0s 2ms/step - loss: 0.2909 - accuracy: 0.9504 - val_loss: 0.3769 - val_accuracy: 0.9146\n",
      "Epoch 53/150\n",
      "57/57 [==============================] - 0s 1ms/step - loss: 0.3082 - accuracy: 0.9444 - val_loss: 0.3925 - val_accuracy: 0.9063\n",
      "Epoch 54/150\n",
      "57/57 [==============================] - 0s 2ms/step - loss: 0.2960 - accuracy: 0.9456 - val_loss: 0.2855 - val_accuracy: 0.9559\n",
      "Epoch 55/150\n",
      "57/57 [==============================] - 0s 2ms/step - loss: 0.2810 - accuracy: 0.9504 - val_loss: 0.2824 - val_accuracy: 0.9532\n",
      "Epoch 56/150\n",
      "57/57 [==============================] - 0s 2ms/step - loss: 0.2753 - accuracy: 0.9586 - val_loss: 0.3081 - val_accuracy: 0.9394\n",
      "Epoch 57/150\n",
      "57/57 [==============================] - 0s 2ms/step - loss: 0.2864 - accuracy: 0.9539 - val_loss: 0.2958 - val_accuracy: 0.9532\n",
      "Epoch 58/150\n",
      "57/57 [==============================] - 0s 2ms/step - loss: 0.2771 - accuracy: 0.9515 - val_loss: 0.3663 - val_accuracy: 0.9146\n",
      "Epoch 59/150\n",
      "57/57 [==============================] - 0s 2ms/step - loss: 0.2896 - accuracy: 0.9539 - val_loss: 0.3116 - val_accuracy: 0.9284\n",
      "Epoch 60/150\n",
      "57/57 [==============================] - 0s 2ms/step - loss: 0.2873 - accuracy: 0.9492 - val_loss: 0.3586 - val_accuracy: 0.9201\n",
      "Epoch 61/150\n",
      "57/57 [==============================] - 0s 2ms/step - loss: 0.2968 - accuracy: 0.9444 - val_loss: 0.2939 - val_accuracy: 0.9559\n",
      "Epoch 62/150\n",
      "57/57 [==============================] - 0s 2ms/step - loss: 0.2734 - accuracy: 0.9563 - val_loss: 0.2641 - val_accuracy: 0.9697\n",
      "Epoch 63/150\n",
      "57/57 [==============================] - 0s 2ms/step - loss: 0.2841 - accuracy: 0.9551 - val_loss: 0.2780 - val_accuracy: 0.9532\n",
      "Epoch 64/150\n",
      "57/57 [==============================] - 0s 2ms/step - loss: 0.2683 - accuracy: 0.9539 - val_loss: 0.2786 - val_accuracy: 0.9559\n",
      "Epoch 65/150\n",
      "57/57 [==============================] - 0s 2ms/step - loss: 0.2893 - accuracy: 0.9421 - val_loss: 0.2797 - val_accuracy: 0.9559\n",
      "Epoch 66/150\n",
      "57/57 [==============================] - 0s 2ms/step - loss: 0.2544 - accuracy: 0.9645 - val_loss: 0.3291 - val_accuracy: 0.9146\n",
      "Epoch 67/150\n",
      "57/57 [==============================] - 0s 2ms/step - loss: 0.2767 - accuracy: 0.9586 - val_loss: 0.2727 - val_accuracy: 0.9504\n",
      "Epoch 68/150\n",
      "57/57 [==============================] - 0s 2ms/step - loss: 0.2668 - accuracy: 0.9574 - val_loss: 0.2668 - val_accuracy: 0.9559\n",
      "Epoch 69/150\n",
      "57/57 [==============================] - 0s 2ms/step - loss: 0.2492 - accuracy: 0.9634 - val_loss: 0.2576 - val_accuracy: 0.9697\n",
      "Epoch 70/150\n",
      "57/57 [==============================] - 0s 3ms/step - loss: 0.2606 - accuracy: 0.9586 - val_loss: 0.2727 - val_accuracy: 0.9532\n",
      "Epoch 71/150\n",
      "57/57 [==============================] - 0s 2ms/step - loss: 0.2541 - accuracy: 0.9634 - val_loss: 0.2600 - val_accuracy: 0.9642\n",
      "Epoch 72/150\n",
      "57/57 [==============================] - 0s 3ms/step - loss: 0.2471 - accuracy: 0.9693 - val_loss: 0.2948 - val_accuracy: 0.9366\n",
      "Epoch 73/150\n",
      "57/57 [==============================] - 0s 2ms/step - loss: 0.2614 - accuracy: 0.9551 - val_loss: 0.2673 - val_accuracy: 0.9559\n",
      "Epoch 74/150\n",
      "57/57 [==============================] - 0s 2ms/step - loss: 0.2448 - accuracy: 0.9716 - val_loss: 0.2467 - val_accuracy: 0.9725\n",
      "Epoch 75/150\n",
      "57/57 [==============================] - 0s 2ms/step - loss: 0.2339 - accuracy: 0.9787 - val_loss: 0.2552 - val_accuracy: 0.9532\n",
      "Epoch 76/150\n",
      "57/57 [==============================] - 0s 2ms/step - loss: 0.2418 - accuracy: 0.9716 - val_loss: 0.2641 - val_accuracy: 0.9532\n",
      "Epoch 77/150\n",
      "57/57 [==============================] - 0s 2ms/step - loss: 0.2447 - accuracy: 0.9728 - val_loss: 0.2623 - val_accuracy: 0.9532\n",
      "Epoch 78/150\n",
      "57/57 [==============================] - 0s 2ms/step - loss: 0.2429 - accuracy: 0.9693 - val_loss: 0.2584 - val_accuracy: 0.9642\n",
      "Epoch 79/150\n",
      "57/57 [==============================] - 0s 2ms/step - loss: 0.2422 - accuracy: 0.9693 - val_loss: 0.2402 - val_accuracy: 0.9752\n",
      "Epoch 80/150\n",
      "57/57 [==============================] - 0s 2ms/step - loss: 0.2298 - accuracy: 0.9787 - val_loss: 0.2499 - val_accuracy: 0.9669\n",
      "Epoch 81/150\n",
      "57/57 [==============================] - 0s 2ms/step - loss: 0.2309 - accuracy: 0.9752 - val_loss: 0.2383 - val_accuracy: 0.9752\n",
      "Epoch 82/150\n",
      "57/57 [==============================] - 0s 2ms/step - loss: 0.2490 - accuracy: 0.9645 - val_loss: 0.2560 - val_accuracy: 0.9642\n",
      "Epoch 83/150\n",
      "57/57 [==============================] - 0s 2ms/step - loss: 0.2539 - accuracy: 0.9563 - val_loss: 0.2508 - val_accuracy: 0.9587\n",
      "Epoch 84/150\n",
      "57/57 [==============================] - 0s 2ms/step - loss: 0.2356 - accuracy: 0.9704 - val_loss: 0.2312 - val_accuracy: 0.9587\n",
      "Epoch 85/150\n",
      "57/57 [==============================] - 0s 2ms/step - loss: 0.2423 - accuracy: 0.9704 - val_loss: 0.2370 - val_accuracy: 0.9697\n",
      "Epoch 86/150\n",
      "57/57 [==============================] - 0s 2ms/step - loss: 0.2380 - accuracy: 0.9728 - val_loss: 0.2334 - val_accuracy: 0.9835\n",
      "Epoch 87/150\n",
      "57/57 [==============================] - 0s 2ms/step - loss: 0.2307 - accuracy: 0.9704 - val_loss: 0.2506 - val_accuracy: 0.9532\n",
      "Epoch 88/150\n",
      "57/57 [==============================] - 0s 2ms/step - loss: 0.2422 - accuracy: 0.9669 - val_loss: 0.2402 - val_accuracy: 0.9642\n",
      "Epoch 89/150\n",
      "57/57 [==============================] - 0s 2ms/step - loss: 0.2150 - accuracy: 0.9823 - val_loss: 0.2188 - val_accuracy: 0.9780\n",
      "Epoch 90/150\n",
      "57/57 [==============================] - 0s 2ms/step - loss: 0.2261 - accuracy: 0.9740 - val_loss: 0.2308 - val_accuracy: 0.9587\n",
      "Epoch 91/150\n",
      "57/57 [==============================] - 0s 2ms/step - loss: 0.2258 - accuracy: 0.9716 - val_loss: 0.2362 - val_accuracy: 0.9780\n",
      "Epoch 92/150\n",
      "57/57 [==============================] - 0s 2ms/step - loss: 0.2357 - accuracy: 0.9551 - val_loss: 0.2768 - val_accuracy: 0.9256\n",
      "Epoch 93/150\n",
      "57/57 [==============================] - 0s 2ms/step - loss: 0.2393 - accuracy: 0.9634 - val_loss: 0.2700 - val_accuracy: 0.9421\n",
      "Epoch 94/150\n",
      "57/57 [==============================] - 0s 2ms/step - loss: 0.2282 - accuracy: 0.9693 - val_loss: 0.2528 - val_accuracy: 0.9559\n",
      "Epoch 95/150\n",
      "57/57 [==============================] - 0s 2ms/step - loss: 0.2136 - accuracy: 0.9752 - val_loss: 0.2307 - val_accuracy: 0.9697\n",
      "Epoch 96/150\n",
      "57/57 [==============================] - 0s 2ms/step - loss: 0.2100 - accuracy: 0.9799 - val_loss: 0.2182 - val_accuracy: 0.9725\n",
      "Epoch 97/150\n",
      "57/57 [==============================] - 0s 2ms/step - loss: 0.2208 - accuracy: 0.9740 - val_loss: 0.2329 - val_accuracy: 0.9669\n",
      "Epoch 98/150\n",
      "57/57 [==============================] - 0s 2ms/step - loss: 0.2281 - accuracy: 0.9681 - val_loss: 0.2365 - val_accuracy: 0.9697\n",
      "Epoch 99/150\n",
      "57/57 [==============================] - 0s 2ms/step - loss: 0.2151 - accuracy: 0.9752 - val_loss: 0.2105 - val_accuracy: 0.9780\n",
      "Epoch 100/150\n",
      "57/57 [==============================] - 0s 2ms/step - loss: 0.2059 - accuracy: 0.9823 - val_loss: 0.2111 - val_accuracy: 0.9697\n",
      "Epoch 101/150\n",
      "57/57 [==============================] - 0s 1ms/step - loss: 0.2051 - accuracy: 0.9835 - val_loss: 0.2264 - val_accuracy: 0.9669\n",
      "Epoch 102/150\n",
      "57/57 [==============================] - 0s 2ms/step - loss: 0.2286 - accuracy: 0.9669 - val_loss: 0.2200 - val_accuracy: 0.9697\n",
      "Epoch 103/150\n",
      "57/57 [==============================] - 0s 2ms/step - loss: 0.2075 - accuracy: 0.9823 - val_loss: 0.2660 - val_accuracy: 0.9421\n",
      "Epoch 104/150\n",
      "57/57 [==============================] - 0s 2ms/step - loss: 0.2276 - accuracy: 0.9657 - val_loss: 0.2107 - val_accuracy: 0.9725\n",
      "Epoch 105/150\n",
      "57/57 [==============================] - 0s 2ms/step - loss: 0.2020 - accuracy: 0.9787 - val_loss: 0.2646 - val_accuracy: 0.9394\n",
      "Epoch 106/150\n",
      "57/57 [==============================] - 0s 2ms/step - loss: 0.2629 - accuracy: 0.9551 - val_loss: 0.2395 - val_accuracy: 0.9669\n",
      "Epoch 107/150\n",
      "57/57 [==============================] - 0s 2ms/step - loss: 0.2297 - accuracy: 0.9586 - val_loss: 0.2332 - val_accuracy: 0.9642\n",
      "Epoch 108/150\n",
      "57/57 [==============================] - 0s 2ms/step - loss: 0.2214 - accuracy: 0.9716 - val_loss: 0.2089 - val_accuracy: 0.9725\n",
      "Epoch 109/150\n",
      "57/57 [==============================] - 0s 2ms/step - loss: 0.2458 - accuracy: 0.9574 - val_loss: 0.2690 - val_accuracy: 0.9532\n",
      "Epoch 110/150\n",
      "57/57 [==============================] - 0s 2ms/step - loss: 0.2195 - accuracy: 0.9669 - val_loss: 0.2491 - val_accuracy: 0.9449\n",
      "Epoch 111/150\n",
      "57/57 [==============================] - 0s 1ms/step - loss: 0.1964 - accuracy: 0.9835 - val_loss: 0.2124 - val_accuracy: 0.9780\n",
      "Epoch 112/150\n",
      "57/57 [==============================] - 0s 2ms/step - loss: 0.2115 - accuracy: 0.9728 - val_loss: 0.2612 - val_accuracy: 0.9284\n",
      "Epoch 113/150\n",
      "57/57 [==============================] - 0s 2ms/step - loss: 0.2224 - accuracy: 0.9740 - val_loss: 0.2262 - val_accuracy: 0.9725\n",
      "Epoch 114/150\n",
      "57/57 [==============================] - 0s 2ms/step - loss: 0.2272 - accuracy: 0.9598 - val_loss: 0.2204 - val_accuracy: 0.9642\n",
      "Epoch 115/150\n",
      "57/57 [==============================] - 0s 2ms/step - loss: 0.2043 - accuracy: 0.9740 - val_loss: 0.2122 - val_accuracy: 0.9807\n",
      "Epoch 116/150\n",
      "57/57 [==============================] - 0s 2ms/step - loss: 0.1913 - accuracy: 0.9835 - val_loss: 0.2110 - val_accuracy: 0.9752\n",
      "Epoch 117/150\n",
      "57/57 [==============================] - 0s 2ms/step - loss: 0.1940 - accuracy: 0.9823 - val_loss: 0.2502 - val_accuracy: 0.9532\n",
      "Epoch 118/150\n",
      "57/57 [==============================] - 0s 2ms/step - loss: 0.1888 - accuracy: 0.9894 - val_loss: 0.2492 - val_accuracy: 0.9477\n",
      "Epoch 119/150\n",
      "57/57 [==============================] - 0s 2ms/step - loss: 0.2293 - accuracy: 0.9586 - val_loss: 0.2155 - val_accuracy: 0.9780\n",
      "Epoch 120/150\n",
      "57/57 [==============================] - 0s 2ms/step - loss: 0.1955 - accuracy: 0.9775 - val_loss: 0.2400 - val_accuracy: 0.9587\n",
      "Epoch 121/150\n",
      "57/57 [==============================] - 0s 2ms/step - loss: 0.2028 - accuracy: 0.9775 - val_loss: 0.2008 - val_accuracy: 0.9835\n",
      "Epoch 122/150\n",
      "57/57 [==============================] - 0s 2ms/step - loss: 0.1841 - accuracy: 0.9905 - val_loss: 0.1936 - val_accuracy: 0.9780\n",
      "Epoch 123/150\n",
      "57/57 [==============================] - 0s 2ms/step - loss: 0.1941 - accuracy: 0.9823 - val_loss: 0.1952 - val_accuracy: 0.9752\n",
      "Epoch 124/150\n",
      "57/57 [==============================] - 0s 2ms/step - loss: 0.2610 - accuracy: 0.9374 - val_loss: 0.2193 - val_accuracy: 0.9697\n",
      "Epoch 125/150\n",
      "57/57 [==============================] - 0s 2ms/step - loss: 0.2287 - accuracy: 0.9634 - val_loss: 0.2387 - val_accuracy: 0.9421\n",
      "Epoch 126/150\n",
      "57/57 [==============================] - 0s 2ms/step - loss: 0.2000 - accuracy: 0.9787 - val_loss: 0.2023 - val_accuracy: 0.9752\n",
      "Epoch 127/150\n",
      "57/57 [==============================] - 0s 2ms/step - loss: 0.1893 - accuracy: 0.9799 - val_loss: 0.1922 - val_accuracy: 0.9807\n",
      "Epoch 128/150\n",
      "57/57 [==============================] - 0s 2ms/step - loss: 0.2095 - accuracy: 0.9704 - val_loss: 0.2547 - val_accuracy: 0.9421\n",
      "Epoch 129/150\n",
      "57/57 [==============================] - 0s 2ms/step - loss: 0.1907 - accuracy: 0.9811 - val_loss: 0.2360 - val_accuracy: 0.9449\n",
      "Epoch 130/150\n",
      "57/57 [==============================] - 0s 2ms/step - loss: 0.1967 - accuracy: 0.9740 - val_loss: 0.1955 - val_accuracy: 0.9780\n",
      "Epoch 131/150\n",
      "57/57 [==============================] - 0s 2ms/step - loss: 0.1974 - accuracy: 0.9681 - val_loss: 0.2234 - val_accuracy: 0.9642\n",
      "Epoch 132/150\n",
      "57/57 [==============================] - 0s 2ms/step - loss: 0.2079 - accuracy: 0.9693 - val_loss: 0.2177 - val_accuracy: 0.9504\n",
      "Epoch 133/150\n",
      "57/57 [==============================] - 0s 2ms/step - loss: 0.1954 - accuracy: 0.9811 - val_loss: 0.2004 - val_accuracy: 0.9780\n",
      "Epoch 134/150\n",
      "57/57 [==============================] - 0s 1ms/step - loss: 0.1843 - accuracy: 0.9823 - val_loss: 0.2179 - val_accuracy: 0.9725\n",
      "Epoch 135/150\n",
      "57/57 [==============================] - 0s 2ms/step - loss: 0.2060 - accuracy: 0.9764 - val_loss: 0.2220 - val_accuracy: 0.9697\n",
      "Epoch 136/150\n",
      "57/57 [==============================] - 0s 2ms/step - loss: 0.2039 - accuracy: 0.9752 - val_loss: 0.2095 - val_accuracy: 0.9697\n",
      "Epoch 137/150\n",
      "57/57 [==============================] - 0s 2ms/step - loss: 0.1988 - accuracy: 0.9740 - val_loss: 0.2347 - val_accuracy: 0.9559\n",
      "Epoch 138/150\n",
      "57/57 [==============================] - 0s 2ms/step - loss: 0.1883 - accuracy: 0.9799 - val_loss: 0.2008 - val_accuracy: 0.9697\n",
      "Epoch 139/150\n",
      "57/57 [==============================] - 0s 2ms/step - loss: 0.1865 - accuracy: 0.9799 - val_loss: 0.1794 - val_accuracy: 0.9835\n",
      "Epoch 140/150\n",
      "57/57 [==============================] - 0s 2ms/step - loss: 0.1955 - accuracy: 0.9693 - val_loss: 0.2466 - val_accuracy: 0.9587\n",
      "Epoch 141/150\n",
      "57/57 [==============================] - 0s 2ms/step - loss: 0.1907 - accuracy: 0.9858 - val_loss: 0.1905 - val_accuracy: 0.9752\n",
      "Epoch 142/150\n",
      "57/57 [==============================] - 0s 2ms/step - loss: 0.1951 - accuracy: 0.9787 - val_loss: 0.2108 - val_accuracy: 0.9614\n",
      "Epoch 143/150\n",
      "57/57 [==============================] - 0s 2ms/step - loss: 0.1895 - accuracy: 0.9823 - val_loss: 0.2170 - val_accuracy: 0.9614\n",
      "Epoch 144/150\n",
      "57/57 [==============================] - 0s 2ms/step - loss: 0.1704 - accuracy: 0.9929 - val_loss: 0.1900 - val_accuracy: 0.9807\n",
      "Epoch 145/150\n",
      "57/57 [==============================] - 0s 2ms/step - loss: 0.1804 - accuracy: 0.9787 - val_loss: 0.1798 - val_accuracy: 0.9780\n",
      "Epoch 146/150\n",
      "57/57 [==============================] - 0s 2ms/step - loss: 0.1901 - accuracy: 0.9752 - val_loss: 0.1787 - val_accuracy: 0.9890\n",
      "Epoch 147/150\n",
      "57/57 [==============================] - 0s 2ms/step - loss: 0.2083 - accuracy: 0.9693 - val_loss: 0.2363 - val_accuracy: 0.9504\n",
      "Epoch 148/150\n",
      "57/57 [==============================] - 0s 2ms/step - loss: 0.1905 - accuracy: 0.9835 - val_loss: 0.1707 - val_accuracy: 0.9890\n",
      "Epoch 149/150\n",
      "57/57 [==============================] - 0s 2ms/step - loss: 0.2056 - accuracy: 0.9645 - val_loss: 0.2067 - val_accuracy: 0.9669\n",
      "Epoch 150/150\n",
      "57/57 [==============================] - 0s 2ms/step - loss: 0.2561 - accuracy: 0.9480 - val_loss: 0.2110 - val_accuracy: 0.9669\n"
     ]
    },
    {
     "data": {
      "image/png": "[encoded data removed]",
      "text/plain": [
       "<Figure size 432x288 with 1 Axes>"
      ]
     },
     "metadata": {
      "needs_background": "light"
     },
     "output_type": "display_data"
    },
    {
     "data": {
      "image/png": "[encoded data removed]",
      "text/plain": [
       "<Figure size 432x288 with 1 Axes>"
      ]
     },
     "metadata": {
      "needs_background": "light"
     },
     "output_type": "display_data"
    },
    {
     "ename": "AttributeError",
     "evalue": "'Sequential' object has no attribute 'predict_classes'",
     "output_type": "error",
     "traceback": [
      "\u001b[0;31m---------------------------------------------------------------------------\u001b[0m",
      "\u001b[0;31mAttributeError\u001b[0m                            Traceback (most recent call last)",
      "\u001b[1;32m/home/luisotavio/Área de Trabalho/topicos 2/Projeto/topicos_2/sEMG/08-mlp.ipynb Cell 12'\u001b[0m in \u001b[0;36m<cell line: 27>\u001b[0;34m()\u001b[0m\n\u001b[1;32m     <a href='vscode-notebook-cell:/home/luisotavio/%C3%81rea%20de%20Trabalho/topicos%202/Projeto/topicos_2/sEMG/08-mlp.ipynb#ch0000009?line=23'>24</a>\u001b[0m history \u001b[39m=\u001b[39m model\u001b[39m.\u001b[39mfit(X_train, y_train, epochs\u001b[39m=\u001b[39m\u001b[39m150\u001b[39m, batch_size\u001b[39m=\u001b[39m\u001b[39m15\u001b[39m,\n\u001b[1;32m     <a href='vscode-notebook-cell:/home/luisotavio/%C3%81rea%20de%20Trabalho/topicos%202/Projeto/topicos_2/sEMG/08-mlp.ipynb#ch0000009?line=24'>25</a>\u001b[0m                     validation_data\u001b[39m=\u001b[39m(X_val, y_val))\n\u001b[1;32m     <a href='vscode-notebook-cell:/home/luisotavio/%C3%81rea%20de%20Trabalho/topicos%202/Projeto/topicos_2/sEMG/08-mlp.ipynb#ch0000009?line=25'>26</a>\u001b[0m plot_history(history)\n\u001b[0;32m---> <a href='vscode-notebook-cell:/home/luisotavio/%C3%81rea%20de%20Trabalho/topicos%202/Projeto/topicos_2/sEMG/08-mlp.ipynb#ch0000009?line=26'>27</a>\u001b[0m score \u001b[39m=\u001b[39m model\u001b[39m.\u001b[39;49mpredict_classes(X_test)\n\u001b[1;32m     <a href='vscode-notebook-cell:/home/luisotavio/%C3%81rea%20de%20Trabalho/topicos%202/Projeto/topicos_2/sEMG/08-mlp.ipynb#ch0000009?line=27'>28</a>\u001b[0m y_true \u001b[39m=\u001b[39m [np\u001b[39m.\u001b[39mwhere(x \u001b[39m==\u001b[39m \u001b[39m1\u001b[39m)[\u001b[39m0\u001b[39m][\u001b[39m0\u001b[39m] \u001b[39mfor\u001b[39;00m x \u001b[39min\u001b[39;00m y_test]\n\u001b[1;32m     <a href='vscode-notebook-cell:/home/luisotavio/%C3%81rea%20de%20Trabalho/topicos%202/Projeto/topicos_2/sEMG/08-mlp.ipynb#ch0000009?line=28'>29</a>\u001b[0m \u001b[39mprint\u001b[39m(\u001b[39m'\u001b[39m\u001b[39mAcurácia: \u001b[39m\u001b[39m%0.2f\u001b[39;00m\u001b[39m%%\u001b[39;00m\u001b[39m'\u001b[39m \u001b[39m%\u001b[39m (accuracy_score(y_true, score) \u001b[39m*\u001b[39m \u001b[39m100\u001b[39m))\n",
      "\u001b[0;31mAttributeError\u001b[0m: 'Sequential' object has no attribute 'predict_classes'"
     ]
    }
   ],
   "source": [
    "# definição de uma fração do regularizador\n",
    "l = 0.01\n",
    "\n",
    "# desenvolvimento do modelo Keras para uma MLP\n",
    "model = Sequential()\n",
    "model.add(Dense(20, activation='relu', input_dim=6,\n",
    "                kernel_regularizer=regularizers.l2(l)))\n",
    "# Aplicação de um dropout (caso necessário)\n",
    "# model.add(Dropout(0.5))\n",
    "model.add(Dense(10, activation='relu',\n",
    "                kernel_regularizer=regularizers.l2(l)))\n",
    "# Aplicação de um dropout (caso necessário)\n",
    "# model.add(Dropout(0.5))\n",
    "model.add(Dense(4, activation='softmax'))\n",
    "\n",
    "# Aplicação de um modelo de descida de gradiente utilizando o Stocastic Gradient Descendent (SGD)\n",
    "sgd = SGD(lr=0.05, momentum=0.0)\n",
    "# Função de otimização da rede: ADAM\n",
    "adam = Adam(lr=0.005, beta_1=0.9, beta_2=0.999)\n",
    "# Função de custo baseada em dados originalmente categóricos\n",
    "model.compile(loss='categorical_crossentropy', optimizer=adam,\n",
    "              metrics=['accuracy'])\n",
    "\n",
    "history = model.fit(X_train, y_train, epochs=150, batch_size=15,\n",
    "                    validation_data=(X_val, y_val))\n",
    "plot_history(history)\n",
    "score = model.predict_classes(X_test)\n",
    "y_true = [np.where(x == 1)[0][0] for x in y_test]\n",
    "print('Acurácia: %0.2f%%' % (accuracy_score(y_true, score) * 100))\n",
    "print('Matriz de confusão:')\n",
    "print(confusion_matrix(y_true, score))\n",
    "print()\n",
    "print(classification_report(y_true, score, digits=5))"
   ]
  },
  {
   "cell_type": "markdown",
   "id": "f59fc196",
   "metadata": {},
   "source": [
    "**Desafio:** \"Encaixar\" o classificador MLP no no *dataset* criado durante a disciplina."
   ]
  }
 ],
 "metadata": {
  "kernelspec": {
   "display_name": "Python 3 (ipykernel)",
   "language": "python",
   "name": "python3"
  },
  "language_info": {
   "codemirror_mode": {
    "name": "ipython",
    "version": 3
   },
   "file_extension": ".py",
   "mimetype": "text/x-python",
   "name": "python",
   "nbconvert_exporter": "python",
   "pygments_lexer": "ipython3",
   "version": "3.8.10"
  }
 },
 "nbformat": 4,
 "nbformat_minor": 5
}
